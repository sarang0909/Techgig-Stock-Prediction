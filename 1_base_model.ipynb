{
 "cells": [
  {
   "cell_type": "code",
   "execution_count": 36,
   "metadata": {
    "collapsed": true
   },
   "outputs": [],
   "source": [
    "import pandas as pd\n",
    "import numpy as np\n",
    "import matplotlib.pyplot as plt\n",
    "from sklearn.model_selection import cross_val_score\n",
    "from sklearn import preprocessing\n",
    "from sklearn.model_selection import train_test_split\n",
    "from sklearn.linear_model import LinearRegression\n",
    "from sklearn.metrics import mean_absolute_error\n",
    "%matplotlib inline"
   ]
  },
  {
   "cell_type": "code",
   "execution_count": 37,
   "metadata": {
    "collapsed": true
   },
   "outputs": [],
   "source": [
    "infy_dataset = pd.read_csv(\"complete_data_set_v1/INFY.NS.csv\")"
   ]
  },
  {
   "cell_type": "code",
   "execution_count": 38,
   "metadata": {
    "collapsed": true
   },
   "outputs": [],
   "source": [
    "infy_dataset['Date'] = pd.to_datetime(infy_dataset['Date'],format='%Y-%m')"
   ]
  },
  {
   "cell_type": "code",
   "execution_count": 39,
   "metadata": {
    "collapsed": true
   },
   "outputs": [],
   "source": [
    "infy_dataset['Adj Close'] = pd.to_numeric(infy_dataset['Adj Close'],errors='coerce')\n",
    "infy_dataset['Volume'] = pd.to_numeric(infy_dataset['Volume'],errors='coerce')\n",
    "infy_dataset['Close'] = pd.to_numeric(infy_dataset['Close'],errors='coerce')\n",
    "infy_dataset['Low'] = pd.to_numeric(infy_dataset['Low'],errors='coerce')\n",
    "infy_dataset['High'] = pd.to_numeric(infy_dataset['High'],errors='coerce')\n",
    "infy_dataset['Open'] = pd.to_numeric(infy_dataset['Open'],errors='coerce')"
   ]
  },
  {
   "cell_type": "code",
   "execution_count": 40,
   "metadata": {
    "collapsed": true
   },
   "outputs": [],
   "source": [
    "infy_dataset = infy_dataset.dropna(axis=0,how='any')"
   ]
  },
  {
   "cell_type": "code",
   "execution_count": 41,
   "metadata": {
    "collapsed": true
   },
   "outputs": [],
   "source": [
    "'''Create new column to show closing price after 30th day'''\n",
    "forecast_out = int(30) # predicting 30 days into future\n",
    "infy_dataset['PriceNextMonth'] = infy_dataset[['Adj Close']].shift(-forecast_out)\n",
    "infy_dataset = infy_dataset[:-forecast_out]# remove last 30 from X"
   ]
  },
  {
   "cell_type": "code",
   "execution_count": 42,
   "metadata": {},
   "outputs": [
    {
     "data": {
      "text/html": [
       "<div>\n",
       "<style>\n",
       "    .dataframe thead tr:only-child th {\n",
       "        text-align: right;\n",
       "    }\n",
       "\n",
       "    .dataframe thead th {\n",
       "        text-align: left;\n",
       "    }\n",
       "\n",
       "    .dataframe tbody tr th {\n",
       "        vertical-align: top;\n",
       "    }\n",
       "</style>\n",
       "<table border=\"1\" class=\"dataframe\">\n",
       "  <thead>\n",
       "    <tr style=\"text-align: right;\">\n",
       "      <th></th>\n",
       "      <th>Open</th>\n",
       "      <th>High</th>\n",
       "      <th>Low</th>\n",
       "      <th>Close</th>\n",
       "      <th>Adj Close</th>\n",
       "      <th>Volume</th>\n",
       "      <th>PriceNextMonth</th>\n",
       "    </tr>\n",
       "  </thead>\n",
       "  <tbody>\n",
       "    <tr>\n",
       "      <th>Open</th>\n",
       "      <td>1.000000</td>\n",
       "      <td>0.997877</td>\n",
       "      <td>0.997125</td>\n",
       "      <td>0.995660</td>\n",
       "      <td>0.968154</td>\n",
       "      <td>-0.082128</td>\n",
       "      <td>0.874661</td>\n",
       "    </tr>\n",
       "    <tr>\n",
       "      <th>High</th>\n",
       "      <td>0.997877</td>\n",
       "      <td>1.000000</td>\n",
       "      <td>0.996697</td>\n",
       "      <td>0.997984</td>\n",
       "      <td>0.969741</td>\n",
       "      <td>-0.071100</td>\n",
       "      <td>0.876141</td>\n",
       "    </tr>\n",
       "    <tr>\n",
       "      <th>Low</th>\n",
       "      <td>0.997125</td>\n",
       "      <td>0.996697</td>\n",
       "      <td>1.000000</td>\n",
       "      <td>0.998256</td>\n",
       "      <td>0.970066</td>\n",
       "      <td>-0.116717</td>\n",
       "      <td>0.875029</td>\n",
       "    </tr>\n",
       "    <tr>\n",
       "      <th>Close</th>\n",
       "      <td>0.995660</td>\n",
       "      <td>0.997984</td>\n",
       "      <td>0.998256</td>\n",
       "      <td>1.000000</td>\n",
       "      <td>0.971249</td>\n",
       "      <td>-0.100262</td>\n",
       "      <td>0.876217</td>\n",
       "    </tr>\n",
       "    <tr>\n",
       "      <th>Adj Close</th>\n",
       "      <td>0.968154</td>\n",
       "      <td>0.969741</td>\n",
       "      <td>0.970066</td>\n",
       "      <td>0.971249</td>\n",
       "      <td>1.000000</td>\n",
       "      <td>-0.089720</td>\n",
       "      <td>0.928660</td>\n",
       "    </tr>\n",
       "    <tr>\n",
       "      <th>Volume</th>\n",
       "      <td>-0.082128</td>\n",
       "      <td>-0.071100</td>\n",
       "      <td>-0.116717</td>\n",
       "      <td>-0.100262</td>\n",
       "      <td>-0.089720</td>\n",
       "      <td>1.000000</td>\n",
       "      <td>-0.074321</td>\n",
       "    </tr>\n",
       "    <tr>\n",
       "      <th>PriceNextMonth</th>\n",
       "      <td>0.874661</td>\n",
       "      <td>0.876141</td>\n",
       "      <td>0.875029</td>\n",
       "      <td>0.876217</td>\n",
       "      <td>0.928660</td>\n",
       "      <td>-0.074321</td>\n",
       "      <td>1.000000</td>\n",
       "    </tr>\n",
       "  </tbody>\n",
       "</table>\n",
       "</div>"
      ],
      "text/plain": [
       "                    Open      High       Low     Close  Adj Close    Volume  \\\n",
       "Open            1.000000  0.997877  0.997125  0.995660   0.968154 -0.082128   \n",
       "High            0.997877  1.000000  0.996697  0.997984   0.969741 -0.071100   \n",
       "Low             0.997125  0.996697  1.000000  0.998256   0.970066 -0.116717   \n",
       "Close           0.995660  0.997984  0.998256  1.000000   0.971249 -0.100262   \n",
       "Adj Close       0.968154  0.969741  0.970066  0.971249   1.000000 -0.089720   \n",
       "Volume         -0.082128 -0.071100 -0.116717 -0.100262  -0.089720  1.000000   \n",
       "PriceNextMonth  0.874661  0.876141  0.875029  0.876217   0.928660 -0.074321   \n",
       "\n",
       "                PriceNextMonth  \n",
       "Open                  0.874661  \n",
       "High                  0.876141  \n",
       "Low                   0.875029  \n",
       "Close                 0.876217  \n",
       "Adj Close             0.928660  \n",
       "Volume               -0.074321  \n",
       "PriceNextMonth        1.000000  "
      ]
     },
     "execution_count": 42,
     "metadata": {},
     "output_type": "execute_result"
    }
   ],
   "source": [
    "infy_dataset.corr()"
   ]
  },
  {
   "cell_type": "code",
   "execution_count": 43,
   "metadata": {},
   "outputs": [],
   "source": [
    "#Keep only 'Adj Close and remove other columns as they are highly correlated'\n",
    "X = infy_dataset['Adj Close']\n",
    "X = X.values.reshape(X.shape[0],1)\n",
    "#X = preprocessing.scale(X)"
   ]
  },
  {
   "cell_type": "code",
   "execution_count": 44,
   "metadata": {
    "collapsed": true
   },
   "outputs": [],
   "source": [
    "y = np.array(infy_dataset['PriceNextMonth'])"
   ]
  },
  {
   "cell_type": "code",
   "execution_count": 45,
   "metadata": {
    "collapsed": true
   },
   "outputs": [],
   "source": [
    "X_train, X_test, y_train, y_test = train_test_split(X, y, test_size = 0.2)"
   ]
  },
  {
   "cell_type": "code",
   "execution_count": 50,
   "metadata": {
    "collapsed": true
   },
   "outputs": [],
   "source": [
    "def evaluate_model(model,X_train, X_test, y_train, y_test):\n",
    "    confidence = model.score(X_test, y_test)\n",
    "    print(\"score: \", confidence)\n",
    "    \n",
    "    scores = cross_val_score(model, X_train, y_train, cv=5)\n",
    "    print(\"cross_val_score: %0.2f (+/- %0.2f)\" % (scores.mean(), scores.std() * 2))\n",
    "    \n",
    "    mae = mean_absolute_error(y_test, model.predict(X_test))\n",
    "    print(\"mean_absolute_error: \", mae)"
   ]
  },
  {
   "cell_type": "code",
   "execution_count": 51,
   "metadata": {},
   "outputs": [
    {
     "name": "stdout",
     "output_type": "stream",
     "text": [
      "score:  0.865207675534\n",
      "cross_val_score: 0.86 (+/- 0.02)\n",
      "mean_absolute_error:  47.1501303897\n"
     ]
    }
   ],
   "source": [
    "# LinearRegression\n",
    "clf = LinearRegression()\n",
    "clf.fit(X_train,y_train)\n",
    "evaluate_model(clf,X_train, X_test, y_train, y_test)"
   ]
  },
  {
   "cell_type": "code",
   "execution_count": 52,
   "metadata": {},
   "outputs": [
    {
     "name": "stdout",
     "output_type": "stream",
     "text": [
      "score:  0.842358951868\n",
      "cross_val_score: 0.85 (+/- 0.02)\n",
      "mean_absolute_error:  51.426651235\n"
     ]
    }
   ],
   "source": [
    "#RandomForestRegressor\n",
    "from sklearn.ensemble import RandomForestRegressor\n",
    "model = RandomForestRegressor()\n",
    "model.fit(X_train, y_train)\n",
    "evaluate_model(model,X_train, X_test, y_train, y_test)"
   ]
  },
  {
   "cell_type": "code",
   "execution_count": 49,
   "metadata": {
    "collapsed": true
   },
   "outputs": [],
   "source": [
    "#We'll go with  RandomForestRegressor as base model"
   ]
  },
  {
   "cell_type": "code",
   "execution_count": null,
   "metadata": {
    "collapsed": true
   },
   "outputs": [],
   "source": []
  }
 ],
 "metadata": {
  "kernelspec": {
   "display_name": "Python 3",
   "language": "python",
   "name": "python3"
  },
  "language_info": {
   "codemirror_mode": {
    "name": "ipython",
    "version": 3
   },
   "file_extension": ".py",
   "mimetype": "text/x-python",
   "name": "python",
   "nbconvert_exporter": "python",
   "pygments_lexer": "ipython3",
   "version": "3.6.1"
  }
 },
 "nbformat": 4,
 "nbformat_minor": 2
}
