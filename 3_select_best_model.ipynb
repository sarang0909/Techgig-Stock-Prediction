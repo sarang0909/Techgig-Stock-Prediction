{
 "cells": [
  {
   "cell_type": "code",
   "execution_count": 1,
   "metadata": {
    "collapsed": true
   },
   "outputs": [],
   "source": [
    "#import libraries\n",
    "import pandas as pd\n",
    "import numpy as np\n",
    "import matplotlib.pyplot as plt\n",
    "from sklearn.model_selection import cross_val_score,train_test_split\n",
    "from sklearn import preprocessing\n",
    "from sklearn.linear_model import LinearRegression\n",
    "from sklearn.metrics import mean_absolute_error\n",
    "from sklearn.ensemble import RandomForestRegressor\n",
    "from pandas.plotting import autocorrelation_plot\n",
    "from sklearn.model_selection import TimeSeriesSplit\n",
    "import talib as ta\n",
    "%matplotlib inline\n",
    "from matplotlib.pylab import rcParams\n",
    "rcParams['figure.figsize'] = 15, 6"
   ]
  },
  {
   "cell_type": "code",
   "execution_count": 2,
   "metadata": {
    "collapsed": true
   },
   "outputs": [],
   "source": [
    "'''We have data of 12 diffenret stocks,but we will pick only one for exploration'''\n",
    "infy_dataset = pd.read_csv(\"complete_data_set_v1/INFY.NS.csv\")"
   ]
  },
  {
   "cell_type": "code",
   "execution_count": 3,
   "metadata": {
    "collapsed": true
   },
   "outputs": [],
   "source": [
    "def data_preprocessing(dataset):\n",
    "    dataset['Date'] = pd.to_datetime(dataset['Date'],format='%Y-%m')\n",
    "    dataset['Adj Close'] = pd.to_numeric(dataset['Adj Close'],errors='coerce')\n",
    "    dataset['Volume'] = pd.to_numeric(dataset['Volume'],errors='coerce')\n",
    "    dataset['Close'] = pd.to_numeric(dataset['Close'],errors='coerce')\n",
    "    dataset['Low'] = pd.to_numeric(dataset['Low'],errors='coerce')\n",
    "    dataset['High'] = pd.to_numeric(dataset['High'],errors='coerce')\n",
    "    dataset['Open'] = pd.to_numeric(dataset['Open'],errors='coerce')\n",
    "    \n",
    "    '''remove rows with any null value'''\n",
    "    dataset = dataset.dropna(axis=0,how='any')\n",
    "    \n",
    "    '''Create new column to show closing price after 30th day'''\n",
    "    forecast_out = int(30) # predicting 30 days into future\n",
    "    dataset['PriceNextMonth'] = dataset[['Adj Close']].shift(-forecast_out)\n",
    "    dataset = dataset[:-forecast_out]# remove last 30 from X\n",
    "    \n",
    "    return dataset"
   ]
  },
  {
   "cell_type": "code",
   "execution_count": 4,
   "metadata": {
    "collapsed": true
   },
   "outputs": [],
   "source": [
    "def evaluate_model(dataset,features,response,model):\n",
    "    tscv = TimeSeriesSplit(n_splits=6)\n",
    "    X = dataset[features].values\n",
    "    y = np.array(dataset[response])\n",
    "    index = 1\n",
    "    total_mae = 0\n",
    "    for train_index, test_index in tscv.split(dataset.values):\n",
    "        #print('Observations: %d' % (len(train_index) + len(train_index)))\n",
    "        #print('Training Observations: %d' % (len(train_index)))\n",
    "        #print('Testing Observations: %d' % (len(test_index)))\n",
    "        X_train, X_test = X[train_index], X[test_index]\n",
    "        y_train, y_test = y[train_index], y[test_index]\n",
    "        model.fit(X_train, y_train)\n",
    "        y_pred = model.predict(X_test)\n",
    "        mae = mean_absolute_error(y_test, y_pred)\n",
    "        #print('Fold No: %d'% index)\n",
    "        #print(\"mean_absolute_error: \", mae)\n",
    "        total_mae = total_mae+mae\n",
    "        index += 1\n",
    "    print(\"average MAE:\",total_mae/index)"
   ]
  },
  {
   "cell_type": "code",
   "execution_count": 5,
   "metadata": {
    "collapsed": true
   },
   "outputs": [],
   "source": [
    "def create_models(dataset,features,response,model,name):\n",
    "    tscv = TimeSeriesSplit(n_splits=6)\n",
    "    X = dataset[features].values\n",
    "    y = np.array(dataset[response])\n",
    "    index = 1\n",
    "    model_list = []\n",
    "    for train_index, test_index in tscv.split(dataset.values):\n",
    "        X_train, X_test = X[train_index], X[test_index]\n",
    "        y_train, y_test = y[train_index], y[test_index]\n",
    "        model.fit(X_train, y_train)\n",
    "        model_list.append((name+str(index), model))\n",
    "        index += 1\n",
    "    return model_list"
   ]
  },
  {
   "cell_type": "code",
   "execution_count": 6,
   "metadata": {},
   "outputs": [
    {
     "name": "stderr",
     "output_type": "stream",
     "text": [
      "C:\\Users\\Vani\\Anaconda3\\lib\\site-packages\\ipykernel_launcher.py:15: SettingWithCopyWarning: \n",
      "A value is trying to be set on a copy of a slice from a DataFrame.\n",
      "Try using .loc[row_indexer,col_indexer] = value instead\n",
      "\n",
      "See the caveats in the documentation: http://pandas.pydata.org/pandas-docs/stable/indexing.html#indexing-view-versus-copy\n",
      "  from ipykernel import kernelapp as app\n"
     ]
    }
   ],
   "source": [
    "processed_dataset = data_preprocessing(infy_dataset)"
   ]
  },
  {
   "cell_type": "code",
   "execution_count": 7,
   "metadata": {
    "collapsed": true
   },
   "outputs": [],
   "source": [
    "'''Let us create numpy array for TA '''\n",
    "high = processed_dataset['High'].values\n",
    "low = processed_dataset['Low'].values\n",
    "close = processed_dataset['Close'].values\n",
    "open = processed_dataset['Open'].values\n",
    "volume = processed_dataset['Volume'].values"
   ]
  },
  {
   "cell_type": "code",
   "execution_count": 8,
   "metadata": {
    "collapsed": true
   },
   "outputs": [],
   "source": [
    "test_dataset = processed_dataset.copy()\n",
    "test_dataset[\"HL_Perc\"] = (high-low) / low * 100#average MAE: 64.4633232001\n",
    "test_dataset[\"CO_Perc\"] = (close - open) / open * 100\n",
    "test_dataset[\"AROONOSC\"] = ta.AROONOSC(high, low, timeperiod=30)\n",
    "test_dataset[\"CMO\"] = ta.CMO(close, timeperiod=5)\n",
    "test_dataset[\"ADOSC\"] = ta.ADOSC(high, low, close, volume, fastperiod=50, slowperiod=10)\n",
    "test_dataset[\"ROCR100\"] = ta.ROCR100(close, timeperiod=20)\n",
    "test_dataset[\"WILLR\"] = ta.WILLR(high, low, close, timeperiod=20)\n",
    "test_dataset = test_dataset[[\"Adj Close\",\"HL_Perc\",\"CO_Perc\",\"AROONOSC\",\"CMO\",\"ADOSC\",\"ROCR100\",\"WILLR\",\"PriceNextMonth\"]] \n",
    "test_dataset = test_dataset.dropna(axis=0,how='any')\n",
    "features = [\"Adj Close\",\"HL_Perc\",\"CO_Perc\",\"AROONOSC\",\"CMO\",\"ADOSC\",\"ROCR100\",\"WILLR\"]\n",
    "response = \"PriceNextMonth\""
   ]
  },
  {
   "cell_type": "code",
   "execution_count": 9,
   "metadata": {},
   "outputs": [
    {
     "name": "stdout",
     "output_type": "stream",
     "text": [
      "average MAE: 57.2655986016\n"
     ]
    }
   ],
   "source": [
    "random_forest = RandomForestRegressor(random_state=0)\n",
    "evaluate_model(test_dataset,features,response,random_forest)"
   ]
  },
  {
   "cell_type": "code",
   "execution_count": 10,
   "metadata": {},
   "outputs": [
    {
     "name": "stdout",
     "output_type": "stream",
     "text": [
      "LinearRegression\n",
      "average MAE: 52.2756511879\n",
      "BayesianRidge\n",
      "average MAE: 51.572917865\n"
     ]
    },
    {
     "data": {
      "text/plain": [
       "'Evaluated many models but turns out LinearRegression and BayesianRidge perrform better'"
      ]
     },
     "execution_count": 10,
     "metadata": {},
     "output_type": "execute_result"
    }
   ],
   "source": [
    "from sklearn.svm import SVR\n",
    "from sklearn.tree import DecisionTreeRegressor\n",
    "from sklearn.linear_model import LogisticRegression,Ridge,BayesianRidge\n",
    "from sklearn.neighbors import KNeighborsRegressor\n",
    "\n",
    "# prepare models\n",
    "models = []\n",
    "models.append(('LinearRegression', LinearRegression()))\n",
    "#models.append(('RandomForestRegressor', RandomForestRegressor(random_state=0)))\n",
    "#models.append(('DecisionTreeRegressor', DecisionTreeRegressor(random_state=0)))\n",
    "#models.append(('SVR', SVR()))\n",
    "#models.append(('Ridge', Ridge(random_state=0)))\n",
    "#models.append(('KNeighborsRegressor', KNeighborsRegressor()))\n",
    "models.append(('BayesianRidge', BayesianRidge()))\n",
    "\n",
    "# evaluate each model in turn\n",
    "for name, model in models:\n",
    "    print(name)\n",
    "    evaluate_model(test_dataset,features,response,model)\n",
    "'''Evaluated many models but turns out LinearRegression and BayesianRidge perrform better'''\n",
    "    "
   ]
  },
  {
   "cell_type": "code",
   "execution_count": 11,
   "metadata": {
    "collapsed": true
   },
   "outputs": [],
   "source": [
    "model_list = []\n",
    "model_list.append(create_models(test_dataset,features,response,LinearRegression(),\"linear\"))\n",
    "model_list.append(create_models(test_dataset,features,response,BayesianRidge(),\"bayridge\"))"
   ]
  },
  {
   "cell_type": "code",
   "execution_count": 12,
   "metadata": {
    "collapsed": true
   },
   "outputs": [],
   "source": [
    "#Create 12 columns for 12 values predicted by 12 models\n",
    "predicted_dataset = test_dataset.copy()\n",
    "features = [\"Adj Close\",\"HL_Perc\",\"CO_Perc\",\"AROONOSC\",\"CMO\",\"ADOSC\",\"ROCR100\",\"WILLR\"]\n",
    "response = \"PriceNextMonth\"\n",
    "X = predicted_dataset[features].values\n",
    "y = np.array(predicted_dataset[response])\n",
    "\n",
    "for i in range(len(model_list)):\n",
    "    for name, model in model_list[i]:\n",
    "        predicted_dataset[name] = model.predict(X)"
   ]
  },
  {
   "cell_type": "code",
   "execution_count": 13,
   "metadata": {},
   "outputs": [
    {
     "data": {
      "text/html": [
       "<div>\n",
       "<style>\n",
       "    .dataframe thead tr:only-child th {\n",
       "        text-align: right;\n",
       "    }\n",
       "\n",
       "    .dataframe thead th {\n",
       "        text-align: left;\n",
       "    }\n",
       "\n",
       "    .dataframe tbody tr th {\n",
       "        vertical-align: top;\n",
       "    }\n",
       "</style>\n",
       "<table border=\"1\" class=\"dataframe\">\n",
       "  <thead>\n",
       "    <tr style=\"text-align: right;\">\n",
       "      <th></th>\n",
       "      <th>Adj Close</th>\n",
       "      <th>HL_Perc</th>\n",
       "      <th>CO_Perc</th>\n",
       "      <th>AROONOSC</th>\n",
       "      <th>CMO</th>\n",
       "      <th>ADOSC</th>\n",
       "      <th>ROCR100</th>\n",
       "      <th>WILLR</th>\n",
       "      <th>PriceNextMonth</th>\n",
       "      <th>linear1</th>\n",
       "      <th>...</th>\n",
       "      <th>linear3</th>\n",
       "      <th>linear4</th>\n",
       "      <th>linear5</th>\n",
       "      <th>linear6</th>\n",
       "      <th>bayridge1</th>\n",
       "      <th>bayridge2</th>\n",
       "      <th>bayridge3</th>\n",
       "      <th>bayridge4</th>\n",
       "      <th>bayridge5</th>\n",
       "      <th>bayridge6</th>\n",
       "    </tr>\n",
       "  </thead>\n",
       "  <tbody>\n",
       "    <tr>\n",
       "      <th>49</th>\n",
       "      <td>487.763977</td>\n",
       "      <td>1.300621</td>\n",
       "      <td>0.462465</td>\n",
       "      <td>40.0</td>\n",
       "      <td>-0.525828</td>\n",
       "      <td>8.017593e+06</td>\n",
       "      <td>102.130986</td>\n",
       "      <td>-65.607748</td>\n",
       "      <td>588.151672</td>\n",
       "      <td>588.640150</td>\n",
       "      <td>...</td>\n",
       "      <td>588.640150</td>\n",
       "      <td>588.640150</td>\n",
       "      <td>588.640150</td>\n",
       "      <td>588.640150</td>\n",
       "      <td>592.825884</td>\n",
       "      <td>592.825884</td>\n",
       "      <td>592.825884</td>\n",
       "      <td>592.825884</td>\n",
       "      <td>592.825884</td>\n",
       "      <td>592.825884</td>\n",
       "    </tr>\n",
       "    <tr>\n",
       "      <th>50</th>\n",
       "      <td>492.586487</td>\n",
       "      <td>1.455852</td>\n",
       "      <td>0.681152</td>\n",
       "      <td>40.0</td>\n",
       "      <td>15.894006</td>\n",
       "      <td>7.928992e+06</td>\n",
       "      <td>102.041704</td>\n",
       "      <td>-57.843760</td>\n",
       "      <td>595.097839</td>\n",
       "      <td>589.987235</td>\n",
       "      <td>...</td>\n",
       "      <td>589.987235</td>\n",
       "      <td>589.987235</td>\n",
       "      <td>589.987235</td>\n",
       "      <td>589.987235</td>\n",
       "      <td>593.097234</td>\n",
       "      <td>593.097234</td>\n",
       "      <td>593.097234</td>\n",
       "      <td>593.097234</td>\n",
       "      <td>593.097234</td>\n",
       "      <td>593.097234</td>\n",
       "    </tr>\n",
       "    <tr>\n",
       "      <th>51</th>\n",
       "      <td>490.935455</td>\n",
       "      <td>1.719765</td>\n",
       "      <td>-0.312672</td>\n",
       "      <td>40.0</td>\n",
       "      <td>8.322360</td>\n",
       "      <td>7.594680e+06</td>\n",
       "      <td>102.224123</td>\n",
       "      <td>-60.501766</td>\n",
       "      <td>597.906067</td>\n",
       "      <td>589.922992</td>\n",
       "      <td>...</td>\n",
       "      <td>589.922992</td>\n",
       "      <td>589.922992</td>\n",
       "      <td>589.922992</td>\n",
       "      <td>589.922992</td>\n",
       "      <td>592.245280</td>\n",
       "      <td>592.245280</td>\n",
       "      <td>592.245280</td>\n",
       "      <td>592.245280</td>\n",
       "      <td>592.245280</td>\n",
       "      <td>592.245280</td>\n",
       "    </tr>\n",
       "    <tr>\n",
       "      <th>52</th>\n",
       "      <td>476.992401</td>\n",
       "      <td>4.492496</td>\n",
       "      <td>-2.425861</td>\n",
       "      <td>40.0</td>\n",
       "      <td>-35.892551</td>\n",
       "      <td>7.519924e+06</td>\n",
       "      <td>100.391891</td>\n",
       "      <td>-82.949726</td>\n",
       "      <td>598.912903</td>\n",
       "      <td>596.332045</td>\n",
       "      <td>...</td>\n",
       "      <td>596.332045</td>\n",
       "      <td>596.332045</td>\n",
       "      <td>596.332045</td>\n",
       "      <td>596.332045</td>\n",
       "      <td>590.680966</td>\n",
       "      <td>590.680966</td>\n",
       "      <td>590.680966</td>\n",
       "      <td>590.680966</td>\n",
       "      <td>590.680966</td>\n",
       "      <td>590.680966</td>\n",
       "    </tr>\n",
       "    <tr>\n",
       "      <th>53</th>\n",
       "      <td>486.989105</td>\n",
       "      <td>2.590057</td>\n",
       "      <td>2.031210</td>\n",
       "      <td>40.0</td>\n",
       "      <td>0.504582</td>\n",
       "      <td>7.157805e+06</td>\n",
       "      <td>103.017678</td>\n",
       "      <td>-66.855121</td>\n",
       "      <td>605.788940</td>\n",
       "      <td>586.301479</td>\n",
       "      <td>...</td>\n",
       "      <td>586.301479</td>\n",
       "      <td>586.301479</td>\n",
       "      <td>586.301479</td>\n",
       "      <td>586.301479</td>\n",
       "      <td>587.903587</td>\n",
       "      <td>587.903587</td>\n",
       "      <td>587.903587</td>\n",
       "      <td>587.903587</td>\n",
       "      <td>587.903587</td>\n",
       "      <td>587.903587</td>\n",
       "    </tr>\n",
       "  </tbody>\n",
       "</table>\n",
       "<p>5 rows × 21 columns</p>\n",
       "</div>"
      ],
      "text/plain": [
       "     Adj Close   HL_Perc   CO_Perc  AROONOSC        CMO         ADOSC  \\\n",
       "49  487.763977  1.300621  0.462465      40.0  -0.525828  8.017593e+06   \n",
       "50  492.586487  1.455852  0.681152      40.0  15.894006  7.928992e+06   \n",
       "51  490.935455  1.719765 -0.312672      40.0   8.322360  7.594680e+06   \n",
       "52  476.992401  4.492496 -2.425861      40.0 -35.892551  7.519924e+06   \n",
       "53  486.989105  2.590057  2.031210      40.0   0.504582  7.157805e+06   \n",
       "\n",
       "       ROCR100      WILLR  PriceNextMonth     linear1     ...         linear3  \\\n",
       "49  102.130986 -65.607748      588.151672  588.640150     ...      588.640150   \n",
       "50  102.041704 -57.843760      595.097839  589.987235     ...      589.987235   \n",
       "51  102.224123 -60.501766      597.906067  589.922992     ...      589.922992   \n",
       "52  100.391891 -82.949726      598.912903  596.332045     ...      596.332045   \n",
       "53  103.017678 -66.855121      605.788940  586.301479     ...      586.301479   \n",
       "\n",
       "       linear4     linear5     linear6   bayridge1   bayridge2   bayridge3  \\\n",
       "49  588.640150  588.640150  588.640150  592.825884  592.825884  592.825884   \n",
       "50  589.987235  589.987235  589.987235  593.097234  593.097234  593.097234   \n",
       "51  589.922992  589.922992  589.922992  592.245280  592.245280  592.245280   \n",
       "52  596.332045  596.332045  596.332045  590.680966  590.680966  590.680966   \n",
       "53  586.301479  586.301479  586.301479  587.903587  587.903587  587.903587   \n",
       "\n",
       "     bayridge4   bayridge5   bayridge6  \n",
       "49  592.825884  592.825884  592.825884  \n",
       "50  593.097234  593.097234  593.097234  \n",
       "51  592.245280  592.245280  592.245280  \n",
       "52  590.680966  590.680966  590.680966  \n",
       "53  587.903587  587.903587  587.903587  \n",
       "\n",
       "[5 rows x 21 columns]"
      ]
     },
     "execution_count": 13,
     "metadata": {},
     "output_type": "execute_result"
    }
   ],
   "source": [
    "predicted_dataset.head()"
   ]
  },
  {
   "cell_type": "code",
   "execution_count": 14,
   "metadata": {},
   "outputs": [
    {
     "data": {
      "text/plain": [
       "'Now we have 12 predicted values from 12 different models,one way to select final values is averaging output of 12 models\\nbut a biased model can give outlier as result which in turn will afect averaging.\\nSo new approach is considered:Treat output of 12 models as features'"
      ]
     },
     "execution_count": 14,
     "metadata": {},
     "output_type": "execute_result"
    }
   ],
   "source": [
    "'''Now we have 12 predicted values from 12 different models,one way to select final values is averaging output of 12 models\n",
    "but a biased model can give outlier as result which in turn will afect averaging.\n",
    "So new approach is considered:Treat output of 12 models as features'''"
   ]
  },
  {
   "cell_type": "code",
   "execution_count": 15,
   "metadata": {
    "collapsed": true
   },
   "outputs": [],
   "source": [
    "lin_col = predicted_dataset.loc[: , \"linear1\":\"linear6\"]\n",
    "predicted_dataset['lin_reg_mean'] = lin_col.mean(axis=1)"
   ]
  },
  {
   "cell_type": "code",
   "execution_count": 16,
   "metadata": {
    "collapsed": true
   },
   "outputs": [],
   "source": [
    "bay_col = predicted_dataset.loc[: , \"bayridge1\":\"bayridge6\"]\n",
    "predicted_dataset['bay_ridge_mean'] = bay_col.mean(axis=1)"
   ]
  },
  {
   "cell_type": "code",
   "execution_count": 17,
   "metadata": {
    "collapsed": true
   },
   "outputs": [],
   "source": [
    "both_col = predicted_dataset.loc[: , [\"lin_reg_mean\",\"bay_ridge_mean\"]]\n",
    "predicted_dataset['both_model_mean'] = both_col.mean(axis=1)"
   ]
  },
  {
   "cell_type": "code",
   "execution_count": 18,
   "metadata": {
    "collapsed": true
   },
   "outputs": [],
   "source": [
    "lin_reg_mae = mean_absolute_error(predicted_dataset['PriceNextMonth'], predicted_dataset['lin_reg_mean'])\n",
    "bay_ridge_mae = mean_absolute_error(predicted_dataset['PriceNextMonth'], predicted_dataset['bay_ridge_mean'])\n",
    "both_model_mae = mean_absolute_error(predicted_dataset['PriceNextMonth'], predicted_dataset['both_model_mean'])"
   ]
  },
  {
   "cell_type": "code",
   "execution_count": 19,
   "metadata": {},
   "outputs": [
    {
     "name": "stdout",
     "output_type": "stream",
     "text": [
      "50.5117516341\n",
      "50.4201930409\n",
      "50.4518512599\n"
     ]
    }
   ],
   "source": [
    "print(lin_reg_mae)\n",
    "print(bay_ridge_mae)\n",
    "print(both_model_mae)"
   ]
  },
  {
   "cell_type": "code",
   "execution_count": 20,
   "metadata": {},
   "outputs": [
    {
     "data": {
      "text/plain": [
       "50.351955686701757"
      ]
     },
     "execution_count": 20,
     "metadata": {},
     "output_type": "execute_result"
    }
   ],
   "source": [
    "\n",
    "new_x = predicted_dataset.loc[: , \"linear1\":\"bayridge6\"]\n",
    "new_y = predicted_dataset['PriceNextMonth']\n",
    "model = Ridge()\n",
    "model.fit(new_x,new_y)\n",
    "mean_absolute_error(new_y, model.predict(new_x))"
   ]
  },
  {
   "cell_type": "code",
   "execution_count": 21,
   "metadata": {},
   "outputs": [
    {
     "data": {
      "text/plain": [
       "'If we consider values predicted by 12 models as features and create new model then MAE improves'"
      ]
     },
     "execution_count": 21,
     "metadata": {},
     "output_type": "execute_result"
    }
   ],
   "source": [
    "'''If we consider values predicted by 12 models as features and create new model then MAE improves'''"
   ]
  }
 ],
 "metadata": {
  "kernelspec": {
   "display_name": "Python 3",
   "language": "python",
   "name": "python3"
  },
  "language_info": {
   "codemirror_mode": {
    "name": "ipython",
    "version": 3
   },
   "file_extension": ".py",
   "mimetype": "text/x-python",
   "name": "python",
   "nbconvert_exporter": "python",
   "pygments_lexer": "ipython3",
   "version": "3.6.1"
  }
 },
 "nbformat": 4,
 "nbformat_minor": 2
}
