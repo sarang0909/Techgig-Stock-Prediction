{
 "cells": [
  {
   "cell_type": "code",
   "execution_count": 92,
   "metadata": {
    "collapsed": true
   },
   "outputs": [],
   "source": [
    "import pandas as pd\n",
    "import numpy as np\n",
    "import matplotlib.pyplot as plt\n",
    "from sklearn.model_selection import cross_val_score,train_test_split\n",
    "from sklearn import preprocessing\n",
    "from sklearn.linear_model import LinearRegression,Ridge,BayesianRidge\n",
    "from sklearn.metrics import mean_absolute_error\n",
    "from sklearn.ensemble import RandomForestRegressor\n",
    "from pandas.plotting import autocorrelation_plot\n",
    "from sklearn.model_selection import TimeSeriesSplit\n",
    "import talib as ta\n",
    "import glob\n",
    "%matplotlib inline\n",
    "from matplotlib.pylab import rcParams\n",
    "rcParams['figure.figsize'] = 15, 6"
   ]
  },
  {
   "cell_type": "code",
   "execution_count": 121,
   "metadata": {
    "collapsed": true
   },
   "outputs": [],
   "source": [
    "def data_preprocessing(dataset):\n",
    "    #dataset['Date'] = pd.to_datetime(dataset['Date'],format='%Y-%m')\n",
    "    return_dataset = pd.DataFrame()\n",
    "    return_dataset['Date'] = pd.to_datetime(dataset['Date'])\n",
    "    return_dataset['Adj Close'] = pd.to_numeric(dataset['Adj Close'],errors='coerce')\n",
    "    return_dataset['Volume'] = pd.to_numeric(dataset['Volume'],errors='coerce')\n",
    "    return_dataset['Close'] = pd.to_numeric(dataset['Close'],errors='coerce')\n",
    "    return_dataset['Low'] = pd.to_numeric(dataset['Low'],errors='coerce')\n",
    "    return_dataset['High'] = pd.to_numeric(dataset['High'],errors='coerce')\n",
    "    return_dataset['Open'] = pd.to_numeric(dataset['Open'],errors='coerce')\n",
    "    \n",
    "    '''remove rows and  with any null value'''\n",
    "    return_dataset = return_dataset.dropna(axis=0,how='any')\n",
    "       \n",
    "    '''Create new column to show closing price after 30th day'''\n",
    "    forecast_out = int(30) # predicting 30 days into future\n",
    "    return_dataset['PriceNextMonth'] = return_dataset[['Adj Close']].shift(-forecast_out)\n",
    "    #return_dataset = return_dataset[:-forecast_out]# remove last 30 from X\n",
    "    \n",
    "    return_dataset['PriceNextMonth'].iloc[-30:] = return_dataset['PriceNextMonth'].iloc[-31]\n",
    "    \n",
    "    return return_dataset"
   ]
  },
  {
   "cell_type": "code",
   "execution_count": 80,
   "metadata": {
    "collapsed": true
   },
   "outputs": [],
   "source": [
    "def read_process_data(path,stock_names):\n",
    "    list_ = []\n",
    "    for stock_name in stock_names:\n",
    "        df = pd.read_csv(path + \"/\"+stock_name+\".csv\")\n",
    "        processed_dataset = data_preprocessing(df)\n",
    "        list_.append((stock_name,processed_dataset))\n",
    "    return list_"
   ]
  },
  {
   "cell_type": "code",
   "execution_count": 86,
   "metadata": {
    "collapsed": true
   },
   "outputs": [],
   "source": [
    "def create_models(dataset,features,response,model,name):\n",
    "    tscv = TimeSeriesSplit(n_splits=6)\n",
    "    X = dataset[features].values\n",
    "    y = np.array(dataset[response])\n",
    "    index = 1\n",
    "    model_list = []\n",
    "    for train_index, test_index in tscv.split(dataset.values):\n",
    "        X_train, X_test = X[train_index], X[test_index]\n",
    "        y_train, y_test = y[train_index], y[test_index]\n",
    "        model.fit(X_train, y_train)\n",
    "        model_list.append((name+str(index), model))\n",
    "        index += 1\n",
    "    return model_list"
   ]
  },
  {
   "cell_type": "code",
   "execution_count": 90,
   "metadata": {
    "collapsed": true
   },
   "outputs": [],
   "source": [
    "def create_featured_dataset(processed_dataset):\n",
    "    '''Let us create numpy array for TA '''\n",
    "    high = processed_dataset['High'].values\n",
    "    low = processed_dataset['Low'].values\n",
    "    close = processed_dataset['Close'].values\n",
    "    open = processed_dataset['Open'].values\n",
    "    volume = processed_dataset['Volume'].values\n",
    "    feature_dataset = processed_dataset.copy()\n",
    "    feature_dataset[\"HL_Perc\"] = (high-low) / low * 100\n",
    "    feature_dataset[\"CO_Perc\"] = (close - open) / open * 100\n",
    "    feature_dataset[\"AROONOSC\"] = ta.AROONOSC(high, low, timeperiod=30)\n",
    "    feature_dataset[\"CMO\"] = ta.CMO(close, timeperiod=5)\n",
    "    feature_dataset[\"ADOSC\"] = ta.ADOSC(high, low, close, volume, fastperiod=50, slowperiod=10)\n",
    "    feature_dataset[\"ROCR100\"] = ta.ROCR100(close, timeperiod=20)\n",
    "    feature_dataset[\"WILLR\"] = ta.WILLR(high, low, close, timeperiod=20)\n",
    "    feature_dataset = feature_dataset[[\"Adj Close\",\"HL_Perc\",\"CO_Perc\",\"AROONOSC\",\"CMO\",\"ADOSC\",\"ROCR100\",\"WILLR\",\"PriceNextMonth\"]] \n",
    "    feature_dataset = feature_dataset.dropna(axis=0,how='any')\n",
    "    return feature_dataset\n",
    "    "
   ]
  },
  {
   "cell_type": "code",
   "execution_count": null,
   "metadata": {
    "collapsed": true
   },
   "outputs": [],
   "source": []
  },
  {
   "cell_type": "code",
   "execution_count": null,
   "metadata": {
    "collapsed": true
   },
   "outputs": [],
   "source": [
    "def create_final_model():\n",
    "    "
   ]
  },
  {
   "cell_type": "code",
   "execution_count": 122,
   "metadata": {},
   "outputs": [
    {
     "name": "stderr",
     "output_type": "stream",
     "text": [
      "C:\\Users\\Vani\\Anaconda3\\lib\\site-packages\\pandas\\core\\indexing.py:179: SettingWithCopyWarning: \n",
      "A value is trying to be set on a copy of a slice from a DataFrame\n",
      "\n",
      "See the caveats in the documentation: http://pandas.pydata.org/pandas-docs/stable/indexing.html#indexing-view-versus-copy\n",
      "  self._setitem_with_indexer(indexer, value)\n"
     ]
    }
   ],
   "source": [
    "dataset_path = \"complete_data_set_v1\"\n",
    "stock_names = [\"TCS.NS\",\"WIPRO.NS\",\"AXISBANK.NS\",\"HCLTECH.NS\",\"HDFCBANK.NS\",\"ICICIBANK.NS\",\"INDUSINDBK.NS\",\"INFY.NS\",\n",
    "               \"KOTAKBANK.NS\",\"SBIN.NS\",\"YESBANK.NS\",\"TECHM.NS\"]\n",
    "stock_dataset_list = read_process_data(dataset_path,stock_names)"
   ]
  },
  {
   "cell_type": "code",
   "execution_count": 161,
   "metadata": {},
   "outputs": [
    {
     "name": "stderr",
     "output_type": "stream",
     "text": [
      "C:\\Users\\Vani\\Anaconda3\\lib\\site-packages\\ipykernel_launcher.py:21: FutureWarning: reshape is deprecated and will raise in a subsequent release. Please use .values.reshape(...) instead\n"
     ]
    },
    {
     "name": "stdout",
     "output_type": "stream",
     "text": [
      "[ 2566.19213082]\n",
      "[ 279.40765887]\n",
      "[ 467.8518827]\n",
      "[ 933.27770708]\n",
      "[ 1925.37288844]\n",
      "[ 268.27954045]\n",
      "[ 1836.62306298]\n",
      "[ 1111.07631461]\n",
      "[ 1103.23687938]\n",
      "[ 244.0873884]\n",
      "[ 303.48605583]\n",
      "[ 593.43515037]\n",
      "MAE: 115.753672665\n"
     ]
    }
   ],
   "source": [
    "features = [\"Adj Close\",\"HL_Perc\",\"CO_Perc\",\"AROONOSC\",\"CMO\",\"ADOSC\",\"ROCR100\",\"WILLR\"]\n",
    "response = \"PriceNextMonth\"\n",
    "predicted =[]\n",
    "for stock_name,stock_dataset in stock_dataset_list:\n",
    "    featured_dataset =create_featured_dataset(stock_dataset)\n",
    "    model_list = []\n",
    "    model_list.append(create_models(featured_dataset,features,response,LinearRegression(),\"linear\"))\n",
    "    model_list.append(create_models(featured_dataset,features,response,BayesianRidge(),\"bayridge\"))\n",
    "    predicted_dataset = featured_dataset.copy()\n",
    "    X = predicted_dataset[features].values\n",
    "    y = np.array(predicted_dataset[response])\n",
    "    for i in range(len(model_list)):\n",
    "        for name, model in model_list[i]:\n",
    "            predicted_dataset[name] = model.predict(X)\n",
    "    new_x = predicted_dataset.loc[: , \"linear1\":\"bayridge6\"]\n",
    "    new_y = predicted_dataset['PriceNextMonth']\n",
    "    model = Ridge()\n",
    "    model.fit(new_x,new_y)\n",
    "    #print(mean_absolute_error(new_y, model.predict(new_x)))\n",
    "    final_value_to_predict = new_x.iloc[-1,:]\n",
    "    final_value_to_predict = final_value_to_predict.reshape(1,-1)\n",
    "    print(model.predict(final_value_to_predict))\n",
    "    \n",
    "    predicted.append(model.predict(final_value_to_predict))\n",
    "actual = pd.Series([3428,274,536,929,1977,293,1888,1184,1242,246,348,657])\n",
    "print(\"MAE:\",mean_absolute_error(actual,predicted))"
   ]
  },
  {
   "cell_type": "code",
   "execution_count": null,
   "metadata": {
    "collapsed": true
   },
   "outputs": [],
   "source": []
  }
 ],
 "metadata": {
  "kernelspec": {
   "display_name": "Python 3",
   "language": "python",
   "name": "python3"
  },
  "language_info": {
   "codemirror_mode": {
    "name": "ipython",
    "version": 3
   },
   "file_extension": ".py",
   "mimetype": "text/x-python",
   "name": "python",
   "nbconvert_exporter": "python",
   "pygments_lexer": "ipython3",
   "version": "3.6.1"
  }
 },
 "nbformat": 4,
 "nbformat_minor": 2
}
