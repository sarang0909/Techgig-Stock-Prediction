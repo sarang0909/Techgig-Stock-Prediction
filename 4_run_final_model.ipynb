{
 "cells": [
  {
   "cell_type": "code",
   "execution_count": 47,
   "metadata": {
    "collapsed": true
   },
   "outputs": [],
   "source": [
    "#import libraries\n",
    "import pandas as pd\n",
    "import numpy as np\n",
    "import matplotlib.pyplot as plt\n",
    "from sklearn.model_selection import cross_val_score,train_test_split\n",
    "from sklearn import preprocessing\n",
    "from sklearn.linear_model import LinearRegression,Ridge,BayesianRidge\n",
    "from sklearn.metrics import mean_absolute_error\n",
    "from sklearn.ensemble import RandomForestRegressor\n",
    "from pandas.plotting import autocorrelation_plot\n",
    "from sklearn.model_selection import TimeSeriesSplit\n",
    "import talib as ta\n",
    "import glob\n",
    "%matplotlib inline\n",
    "from matplotlib.pylab import rcParams\n",
    "rcParams['figure.figsize'] = 15, 6"
   ]
  },
  {
   "cell_type": "code",
   "execution_count": 48,
   "metadata": {
    "collapsed": true
   },
   "outputs": [],
   "source": [
    "def data_preprocessing(dataset):\n",
    "    return_dataset = pd.DataFrame()\n",
    "    return_dataset['Date'] = pd.to_datetime(dataset['Date'])\n",
    "    return_dataset['Adj Close'] = pd.to_numeric(dataset['Adj Close'],errors='coerce')\n",
    "    return_dataset['Volume'] = pd.to_numeric(dataset['Volume'],errors='coerce')\n",
    "    return_dataset['Close'] = pd.to_numeric(dataset['Close'],errors='coerce')\n",
    "    return_dataset['Low'] = pd.to_numeric(dataset['Low'],errors='coerce')\n",
    "    return_dataset['High'] = pd.to_numeric(dataset['High'],errors='coerce')\n",
    "    return_dataset['Open'] = pd.to_numeric(dataset['Open'],errors='coerce')\n",
    "    \n",
    "    '''remove rows and  with any null value'''\n",
    "    return_dataset = return_dataset.dropna(axis=0,how='any')\n",
    "       \n",
    "    '''Create new column to show closing price after 30th day'''\n",
    "    forecast_out = int(30) # predicting 30 days into future\n",
    "    return_dataset['PriceNextMonth'] = return_dataset[['Adj Close']].shift(-forecast_out)\n",
    "    '''Put some value in last 30 rows for PriceNextMonth column'''    \n",
    "    return_dataset['PriceNextMonth'].iloc[-30:] = return_dataset['PriceNextMonth'].iloc[-31]\n",
    "    \n",
    "    return return_dataset"
   ]
  },
  {
   "cell_type": "code",
   "execution_count": 49,
   "metadata": {
    "collapsed": true
   },
   "outputs": [],
   "source": [
    "def read_process_data(path,stock_names):\n",
    "    list_ = []\n",
    "    for stock_name in stock_names:\n",
    "        df = pd.read_csv(path + \"/\"+stock_name+\".csv\")\n",
    "        processed_dataset = data_preprocessing(df)\n",
    "        list_.append((stock_name,processed_dataset))\n",
    "    return list_"
   ]
  },
  {
   "cell_type": "code",
   "execution_count": 50,
   "metadata": {
    "collapsed": true
   },
   "outputs": [],
   "source": [
    "def create_models(dataset,features,response,model,name):\n",
    "    tscv = TimeSeriesSplit(n_splits=6)\n",
    "    X = dataset[features].values\n",
    "    y = np.array(dataset[response])\n",
    "    index = 1\n",
    "    model_list = []\n",
    "    for train_index, test_index in tscv.split(dataset.values):\n",
    "        X_train, X_test = X[train_index], X[test_index]\n",
    "        y_train, y_test = y[train_index], y[test_index]\n",
    "        model.fit(X_train, y_train)\n",
    "        model_list.append((name+str(index), model))\n",
    "        index += 1\n",
    "    return model_list"
   ]
  },
  {
   "cell_type": "code",
   "execution_count": 51,
   "metadata": {
    "collapsed": true
   },
   "outputs": [],
   "source": [
    "def create_featured_dataset(processed_dataset):\n",
    "    '''Let us create numpy array for TA '''\n",
    "    high = processed_dataset['High'].values\n",
    "    low = processed_dataset['Low'].values\n",
    "    close = processed_dataset['Close'].values\n",
    "    open = processed_dataset['Open'].values\n",
    "    volume = processed_dataset['Volume'].values\n",
    "    feature_dataset = processed_dataset.copy()\n",
    "    feature_dataset[\"HL_Perc\"] = (high-low) / low * 100\n",
    "    feature_dataset[\"CO_Perc\"] = (close - open) / open * 100\n",
    "    feature_dataset[\"AROONOSC\"] = ta.AROONOSC(high, low, timeperiod=30)\n",
    "    feature_dataset[\"CMO\"] = ta.CMO(close, timeperiod=5)\n",
    "    feature_dataset[\"ADOSC\"] = ta.ADOSC(high, low, close, volume, fastperiod=50, slowperiod=10)\n",
    "    feature_dataset[\"ROCR100\"] = ta.ROCR100(close, timeperiod=20)\n",
    "    feature_dataset[\"WILLR\"] = ta.WILLR(high, low, close, timeperiod=20)\n",
    "    feature_dataset = feature_dataset[[\"Adj Close\",\"HL_Perc\",\"CO_Perc\",\"AROONOSC\",\"CMO\",\"ADOSC\",\"ROCR100\",\"WILLR\",\"PriceNextMonth\"]] \n",
    "    feature_dataset = feature_dataset.dropna(axis=0,how='any')\n",
    "    return feature_dataset\n",
    "    "
   ]
  },
  {
   "cell_type": "code",
   "execution_count": 52,
   "metadata": {},
   "outputs": [
    {
     "name": "stderr",
     "output_type": "stream",
     "text": [
      "C:\\Users\\Vani\\Anaconda3\\lib\\site-packages\\pandas\\core\\indexing.py:179: SettingWithCopyWarning: \n",
      "A value is trying to be set on a copy of a slice from a DataFrame\n",
      "\n",
      "See the caveats in the documentation: http://pandas.pydata.org/pandas-docs/stable/indexing.html#indexing-view-versus-copy\n",
      "  self._setitem_with_indexer(indexer, value)\n"
     ]
    }
   ],
   "source": [
    "dataset_path = \"complete_data_set_v1\"\n",
    "stock_names = [\"TCS.NS\",\"WIPRO.NS\",\"AXISBANK.NS\",\"HCLTECH.NS\",\"HDFCBANK.NS\",\"ICICIBANK.NS\",\"INDUSINDBK.NS\",\"INFY.NS\",\n",
    "               \"KOTAKBANK.NS\",\"SBIN.NS\",\"YESBANK.NS\",\"TECHM.NS\"]\n",
    "stock_dataset_list = read_process_data(dataset_path,stock_names)"
   ]
  },
  {
   "cell_type": "code",
   "execution_count": 53,
   "metadata": {},
   "outputs": [
    {
     "name": "stderr",
     "output_type": "stream",
     "text": [
      "C:\\Users\\Vani\\Anaconda3\\lib\\site-packages\\ipykernel_launcher.py:24: FutureWarning: reshape is deprecated and will raise in a subsequent release. Please use .values.reshape(...) instead\n"
     ]
    }
   ],
   "source": [
    "features = [\"Adj Close\",\"HL_Perc\",\"CO_Perc\",\"AROONOSC\",\"CMO\",\"ADOSC\",\"ROCR100\",\"WILLR\"]\n",
    "response = \"PriceNextMonth\"\n",
    "columns_explore=[\"Date\",\"Symbol\",\"Predicted Return\",\"4thApril\",\"16thMay\"]\n",
    "columns_csv = [\"Date\",\"Symbol\",\"Predicted Return\"]#final csv output\n",
    "final_output = {}\n",
    "final_csv = pd.DataFrame(columns =columns_explore)\n",
    "for stock_name,stock_dataset in stock_dataset_list:\n",
    "    featured_dataset =create_featured_dataset(stock_dataset)#create featured dataset\n",
    "    model_list = []#create 12 models\n",
    "    model_list.append(create_models(featured_dataset,features,response,LinearRegression(),\"linear\"))\n",
    "    model_list.append(create_models(featured_dataset,features,response,BayesianRidge(),\"bayridge\"))\n",
    "    predicted_dataset = featured_dataset.copy()\n",
    "    X = predicted_dataset[features].values\n",
    "    y = np.array(predicted_dataset[response])\n",
    "    for i in range(len(model_list)):\n",
    "        for name, model in model_list[i]:\n",
    "            predicted_dataset[name] = model.predict(X)#Run 12 models\n",
    "    new_x = predicted_dataset.loc[: , \"linear1\":\"bayridge6\"]\n",
    "    new_y = predicted_dataset['PriceNextMonth']\n",
    "    model = Ridge()#create final model \n",
    "    model.fit(new_x,new_y)#final model has features as outcome of 12 models\n",
    "    \n",
    "    final_value_to_predict = new_x.iloc[-1,:]\n",
    "    final_value_to_predict = final_value_to_predict.reshape(1,-1)\n",
    "    predicted_value = model.predict(final_value_to_predict) #Run final model on 4th April data\n",
    "    today_value = stock_dataset.iloc[-1,1]\n",
    "    predicted_return = ((predicted_value-today_value)/today_value)*100\n",
    "    \n",
    "    df2 = pd.DataFrame([[\"20180516\",stock_name,np.asscalar(predicted_return),today_value,np.asscalar(predicted_value)]],\n",
    "                       columns=columns_explore)\n",
    "    final_csv = final_csv.append(df2)"
   ]
  },
  {
   "cell_type": "code",
   "execution_count": 54,
   "metadata": {},
   "outputs": [
    {
     "data": {
      "text/html": [
       "<div>\n",
       "<style>\n",
       "    .dataframe thead tr:only-child th {\n",
       "        text-align: right;\n",
       "    }\n",
       "\n",
       "    .dataframe thead th {\n",
       "        text-align: left;\n",
       "    }\n",
       "\n",
       "    .dataframe tbody tr th {\n",
       "        vertical-align: top;\n",
       "    }\n",
       "</style>\n",
       "<table border=\"1\" class=\"dataframe\">\n",
       "  <thead>\n",
       "    <tr style=\"text-align: right;\">\n",
       "      <th></th>\n",
       "      <th>Date</th>\n",
       "      <th>Symbol</th>\n",
       "      <th>Predicted Return</th>\n",
       "      <th>4thApril</th>\n",
       "      <th>16thMay</th>\n",
       "    </tr>\n",
       "  </thead>\n",
       "  <tbody>\n",
       "    <tr>\n",
       "      <th>0</th>\n",
       "      <td>20180516</td>\n",
       "      <td>TCS.NS</td>\n",
       "      <td>-11.841966</td>\n",
       "      <td>2910.899902</td>\n",
       "      <td>2566.192131</td>\n",
       "    </tr>\n",
       "    <tr>\n",
       "      <th>0</th>\n",
       "      <td>20180516</td>\n",
       "      <td>WIPRO.NS</td>\n",
       "      <td>-0.778532</td>\n",
       "      <td>281.600006</td>\n",
       "      <td>279.407659</td>\n",
       "    </tr>\n",
       "    <tr>\n",
       "      <th>0</th>\n",
       "      <td>20180516</td>\n",
       "      <td>AXISBANK.NS</td>\n",
       "      <td>-4.956448</td>\n",
       "      <td>492.250000</td>\n",
       "      <td>467.851883</td>\n",
       "    </tr>\n",
       "    <tr>\n",
       "      <th>0</th>\n",
       "      <td>20180516</td>\n",
       "      <td>HCLTECH.NS</td>\n",
       "      <td>-2.707562</td>\n",
       "      <td>959.250000</td>\n",
       "      <td>933.277707</td>\n",
       "    </tr>\n",
       "    <tr>\n",
       "      <th>0</th>\n",
       "      <td>20180516</td>\n",
       "      <td>HDFCBANK.NS</td>\n",
       "      <td>2.236713</td>\n",
       "      <td>1883.250000</td>\n",
       "      <td>1925.372888</td>\n",
       "    </tr>\n",
       "    <tr>\n",
       "      <th>0</th>\n",
       "      <td>20180516</td>\n",
       "      <td>ICICIBANK.NS</td>\n",
       "      <td>-0.137894</td>\n",
       "      <td>268.649994</td>\n",
       "      <td>268.279540</td>\n",
       "    </tr>\n",
       "    <tr>\n",
       "      <th>0</th>\n",
       "      <td>20180516</td>\n",
       "      <td>INDUSINDBK.NS</td>\n",
       "      <td>2.071475</td>\n",
       "      <td>1799.349976</td>\n",
       "      <td>1836.623063</td>\n",
       "    </tr>\n",
       "    <tr>\n",
       "      <th>0</th>\n",
       "      <td>20180516</td>\n",
       "      <td>INFY.NS</td>\n",
       "      <td>-1.167376</td>\n",
       "      <td>1124.199951</td>\n",
       "      <td>1111.076315</td>\n",
       "    </tr>\n",
       "    <tr>\n",
       "      <th>0</th>\n",
       "      <td>20180516</td>\n",
       "      <td>KOTAKBANK.NS</td>\n",
       "      <td>2.312606</td>\n",
       "      <td>1078.300049</td>\n",
       "      <td>1103.236879</td>\n",
       "    </tr>\n",
       "    <tr>\n",
       "      <th>0</th>\n",
       "      <td>20180516</td>\n",
       "      <td>SBIN.NS</td>\n",
       "      <td>-1.299076</td>\n",
       "      <td>247.300003</td>\n",
       "      <td>244.087388</td>\n",
       "    </tr>\n",
       "    <tr>\n",
       "      <th>0</th>\n",
       "      <td>20180516</td>\n",
       "      <td>YESBANK.NS</td>\n",
       "      <td>-0.642971</td>\n",
       "      <td>305.450012</td>\n",
       "      <td>303.486056</td>\n",
       "    </tr>\n",
       "    <tr>\n",
       "      <th>0</th>\n",
       "      <td>20180516</td>\n",
       "      <td>TECHM.NS</td>\n",
       "      <td>-2.121860</td>\n",
       "      <td>606.299988</td>\n",
       "      <td>593.435150</td>\n",
       "    </tr>\n",
       "  </tbody>\n",
       "</table>\n",
       "</div>"
      ],
      "text/plain": [
       "       Date         Symbol  Predicted Return     4thApril      16thMay\n",
       "0  20180516         TCS.NS        -11.841966  2910.899902  2566.192131\n",
       "0  20180516       WIPRO.NS         -0.778532   281.600006   279.407659\n",
       "0  20180516    AXISBANK.NS         -4.956448   492.250000   467.851883\n",
       "0  20180516     HCLTECH.NS         -2.707562   959.250000   933.277707\n",
       "0  20180516    HDFCBANK.NS          2.236713  1883.250000  1925.372888\n",
       "0  20180516   ICICIBANK.NS         -0.137894   268.649994   268.279540\n",
       "0  20180516  INDUSINDBK.NS          2.071475  1799.349976  1836.623063\n",
       "0  20180516        INFY.NS         -1.167376  1124.199951  1111.076315\n",
       "0  20180516   KOTAKBANK.NS          2.312606  1078.300049  1103.236879\n",
       "0  20180516        SBIN.NS         -1.299076   247.300003   244.087388\n",
       "0  20180516     YESBANK.NS         -0.642971   305.450012   303.486056\n",
       "0  20180516       TECHM.NS         -2.121860   606.299988   593.435150"
      ]
     },
     "execution_count": 54,
     "metadata": {},
     "output_type": "execute_result"
    }
   ],
   "source": [
    "final_csv#final output"
   ]
  },
  {
   "cell_type": "code",
   "execution_count": 55,
   "metadata": {
    "collapsed": true
   },
   "outputs": [],
   "source": [
    "final_csv.to_csv(\"Submission.csv\",columns=columns_csv,index=False)#create Submission file"
   ]
  }
 ],
 "metadata": {
  "kernelspec": {
   "display_name": "Python 3",
   "language": "python",
   "name": "python3"
  },
  "language_info": {
   "codemirror_mode": {
    "name": "ipython",
    "version": 3
   },
   "file_extension": ".py",
   "mimetype": "text/x-python",
   "name": "python",
   "nbconvert_exporter": "python",
   "pygments_lexer": "ipython3",
   "version": "3.6.1"
  }
 },
 "nbformat": 4,
 "nbformat_minor": 2
}
