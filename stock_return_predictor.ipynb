{
 "cells": [
  {
   "cell_type": "markdown",
   "metadata": {},
   "source": [
    "## Challenge Description:Techgig 2018 Code Gladiator"
   ]
  },
  {
   "cell_type": "markdown",
   "metadata": {},
   "source": [
    "Stock markets have always been a fancy for companies, investors and traders. There is a plethora of investors investing or exiting the stocks at any point of time with different trading strategies and investment horizons. However the underlying objective of every type of investor is common \"Maximize the returns and minimize the losses.\" To achieve this objective every investor is intrigued with one question “Is my stock price going to rise or fall in future\".\n",
    "People have been trying to find this answer from various angles. For some investors fundamentals are important and hence they rely on the fundamental strength of the stock. Others try to predict the movement of the stock based on technical analysis. Some try to predict the movement based on news about stocks and overall market sentiment while other tries to track the trend to predict the price of stock.\n",
    "\n",
    "In this competition we challenge you to identify the predictability in the market based on technical analysis of stocks."
   ]
  },
  {
   "cell_type": "markdown",
   "metadata": {},
   "source": [
    "## Goal"
   ]
  },
  {
   "cell_type": "markdown",
   "metadata": {},
   "source": [
    "The problem statement for this competition is to design a decision-making framework that can be used to predict actual return value of stock after 30th trading days.\n",
    "\n",
    "To elaborate, we want to predict for list of given stocks and their return after 30th trading days."
   ]
  },
  {
   "cell_type": "markdown",
   "metadata": {},
   "source": [
    "In this competition we have given you 12 stocks of Banking and IT sector in csv format with last 5 years of stock details.\n",
    "\n",
    "Above stock data has been downloaded from Yahoo Finance, but participants are free to download any other historical data from Yahoo finance if they are interested.\n",
    "File format for stock data\n",
    "\n",
    "\n",
    "Following technical indicators should be generated using any open source packages available in R or python for technical Analysis ( like TTR in R or Talib in Python)\n",
    "Simple Moving Average ( 30, 40, 50 Days)\n",
    "Exponential Moving Average ( 30, 40, 50 Days)\n",
    "Aroon Oscillator ( 30, 40, 50 Days)\n",
    "MACD signals\n",
    "Relative Strength Index (RSI)\n",
    "Bollinger Bands ( 30, 40, 50 Days)\n",
    "Stochastic Oscillator\n",
    "Stochastic momentum Indicator\n",
    "Chande Momentum Oscillator\n",
    "Commodity Channel Index ( 30, 40, 50 Days)\n",
    "Chakin Volatility indicator ( 30, 40, 50 Days)\n",
    "Trend Detection Index (30, 40, 50 Days)\n",
    "Rate of Price Change (30, 40, 50 Days)\n",
    "Rate of Volume Change (30, 40, 50 Days)\n",
    "William % R (30, 40, 50 Days)\n",
    "Participants are free to transform and derive more features from the above set of indicators from short term as well as long term perspective."
   ]
  },
  {
   "cell_type": "code",
   "execution_count": 28,
   "metadata": {},
   "outputs": [],
   "source": [
    "import pandas as pd\n",
    "import numpy as np\n",
    "import matplotlib.pyplot as plt\n",
    "%matplotlib inline\n"
   ]
  },
  {
   "cell_type": "code",
   "execution_count": 8,
   "metadata": {},
   "outputs": [],
   "source": [
    "infy_dataset = pd.read_csv(\"complete_data_set_v1/INFY.NS.csv\")"
   ]
  },
  {
   "cell_type": "code",
   "execution_count": 9,
   "metadata": {
    "collapsed": true
   },
   "outputs": [],
   "source": [
    "infy_dataset['Date'] = pd.to_datetime(infy_dataset['Date'],format='%Y-%m')"
   ]
  },
  {
   "cell_type": "code",
   "execution_count": 11,
   "metadata": {},
   "outputs": [],
   "source": [
    "#infy_dataset.index = infy_dataset['Date']"
   ]
  },
  {
   "cell_type": "code",
   "execution_count": 15,
   "metadata": {},
   "outputs": [
    {
     "data": {
      "text/plain": [
       "Date         0\n",
       "Open         0\n",
       "High         0\n",
       "Low          0\n",
       "Close        0\n",
       "Adj Close    0\n",
       "Volume       0\n",
       "dtype: int64"
      ]
     },
     "execution_count": 15,
     "metadata": {},
     "output_type": "execute_result"
    }
   ],
   "source": []
  },
  {
   "cell_type": "code",
   "execution_count": 16,
   "metadata": {},
   "outputs": [],
   "source": [
    "infy_dataset['Close'] = pd.to_numeric(infy_dataset['Close'],errors='coerce')"
   ]
  },
  {
   "cell_type": "code",
   "execution_count": 17,
   "metadata": {},
   "outputs": [
    {
     "name": "stdout",
     "output_type": "stream",
     "text": [
      "<class 'pandas.core.frame.DataFrame'>\n",
      "DatetimeIndex: 1232 entries, 2013-04-04 to 2018-04-04\n",
      "Data columns (total 7 columns):\n",
      "Date         1232 non-null datetime64[ns]\n",
      "Open         1232 non-null object\n",
      "High         1232 non-null object\n",
      "Low          1232 non-null object\n",
      "Close        1230 non-null float64\n",
      "Adj Close    1232 non-null object\n",
      "Volume       1232 non-null object\n",
      "dtypes: datetime64[ns](1), float64(1), object(5)\n",
      "memory usage: 77.0+ KB\n"
     ]
    }
   ],
   "source": [
    "infy_dataset.info()"
   ]
  },
  {
   "cell_type": "code",
   "execution_count": 21,
   "metadata": {},
   "outputs": [
    {
     "data": {
      "text/html": [
       "<div>\n",
       "<style>\n",
       "    .dataframe thead tr:only-child th {\n",
       "        text-align: right;\n",
       "    }\n",
       "\n",
       "    .dataframe thead th {\n",
       "        text-align: left;\n",
       "    }\n",
       "\n",
       "    .dataframe tbody tr th {\n",
       "        vertical-align: top;\n",
       "    }\n",
       "</style>\n",
       "<table border=\"1\" class=\"dataframe\">\n",
       "  <thead>\n",
       "    <tr style=\"text-align: right;\">\n",
       "      <th></th>\n",
       "      <th>Date</th>\n",
       "      <th>Open</th>\n",
       "      <th>High</th>\n",
       "      <th>Low</th>\n",
       "      <th>Close</th>\n",
       "      <th>Adj Close</th>\n",
       "      <th>Volume</th>\n",
       "    </tr>\n",
       "    <tr>\n",
       "      <th>Date</th>\n",
       "      <th></th>\n",
       "      <th></th>\n",
       "      <th></th>\n",
       "      <th></th>\n",
       "      <th></th>\n",
       "      <th></th>\n",
       "      <th></th>\n",
       "    </tr>\n",
       "  </thead>\n",
       "  <tbody>\n",
       "    <tr>\n",
       "      <th>2014-03-22</th>\n",
       "      <td>2014-03-22</td>\n",
       "      <td>null</td>\n",
       "      <td>null</td>\n",
       "      <td>null</td>\n",
       "      <td>NaN</td>\n",
       "      <td>null</td>\n",
       "      <td>null</td>\n",
       "    </tr>\n",
       "    <tr>\n",
       "      <th>2015-02-28</th>\n",
       "      <td>2015-02-28</td>\n",
       "      <td>null</td>\n",
       "      <td>null</td>\n",
       "      <td>null</td>\n",
       "      <td>NaN</td>\n",
       "      <td>null</td>\n",
       "      <td>null</td>\n",
       "    </tr>\n",
       "  </tbody>\n",
       "</table>\n",
       "</div>"
      ],
      "text/plain": [
       "                 Date  Open  High   Low  Close Adj Close Volume\n",
       "Date                                                           \n",
       "2014-03-22 2014-03-22  null  null  null    NaN      null   null\n",
       "2015-02-28 2015-02-28  null  null  null    NaN      null   null"
      ]
     },
     "execution_count": 21,
     "metadata": {},
     "output_type": "execute_result"
    }
   ],
   "source": [
    "infy_dataset[infy_dataset.isnull().any(axis=1)]"
   ]
  },
  {
   "cell_type": "code",
   "execution_count": 23,
   "metadata": {},
   "outputs": [],
   "source": [
    "infy_dataset = infy_dataset.dropna(axis=0,how='any')"
   ]
  },
  {
   "cell_type": "code",
   "execution_count": 24,
   "metadata": {},
   "outputs": [
    {
     "data": {
      "text/html": [
       "<div>\n",
       "<style>\n",
       "    .dataframe thead tr:only-child th {\n",
       "        text-align: right;\n",
       "    }\n",
       "\n",
       "    .dataframe thead th {\n",
       "        text-align: left;\n",
       "    }\n",
       "\n",
       "    .dataframe tbody tr th {\n",
       "        vertical-align: top;\n",
       "    }\n",
       "</style>\n",
       "<table border=\"1\" class=\"dataframe\">\n",
       "  <thead>\n",
       "    <tr style=\"text-align: right;\">\n",
       "      <th></th>\n",
       "      <th>Date</th>\n",
       "      <th>Open</th>\n",
       "      <th>High</th>\n",
       "      <th>Low</th>\n",
       "      <th>Close</th>\n",
       "      <th>Adj Close</th>\n",
       "      <th>Volume</th>\n",
       "    </tr>\n",
       "    <tr>\n",
       "      <th>Date</th>\n",
       "      <th></th>\n",
       "      <th></th>\n",
       "      <th></th>\n",
       "      <th></th>\n",
       "      <th></th>\n",
       "      <th></th>\n",
       "      <th></th>\n",
       "    </tr>\n",
       "  </thead>\n",
       "  <tbody>\n",
       "  </tbody>\n",
       "</table>\n",
       "</div>"
      ],
      "text/plain": [
       "Empty DataFrame\n",
       "Columns: [Date, Open, High, Low, Close, Adj Close, Volume]\n",
       "Index: []"
      ]
     },
     "execution_count": 24,
     "metadata": {},
     "output_type": "execute_result"
    }
   ],
   "source": [
    "infy_dataset[infy_dataset.isnull().any(axis=1)]"
   ]
  },
  {
   "cell_type": "code",
   "execution_count": 25,
   "metadata": {},
   "outputs": [
    {
     "name": "stdout",
     "output_type": "stream",
     "text": [
      "<class 'pandas.core.frame.DataFrame'>\n",
      "DatetimeIndex: 1230 entries, 2013-04-04 to 2018-04-04\n",
      "Data columns (total 7 columns):\n",
      "Date         1230 non-null datetime64[ns]\n",
      "Open         1230 non-null object\n",
      "High         1230 non-null object\n",
      "Low          1230 non-null object\n",
      "Close        1230 non-null float64\n",
      "Adj Close    1230 non-null object\n",
      "Volume       1230 non-null object\n",
      "dtypes: datetime64[ns](1), float64(1), object(5)\n",
      "memory usage: 76.9+ KB\n"
     ]
    }
   ],
   "source": [
    "infy_dataset.info()"
   ]
  },
  {
   "cell_type": "code",
   "execution_count": 80,
   "metadata": {},
   "outputs": [
    {
     "name": "stdout",
     "output_type": "stream",
     "text": [
      "<class 'pandas.core.frame.DataFrame'>\n",
      "RangeIndex: 1232 entries, 0 to 1231\n",
      "Data columns (total 7 columns):\n",
      "Date         1232 non-null object\n",
      "Open         1232 non-null object\n",
      "High         1232 non-null object\n",
      "Low          1232 non-null object\n",
      "Close        1232 non-null object\n",
      "Adj Close    1232 non-null object\n",
      "Volume       1232 non-null object\n",
      "dtypes: object(7)\n",
      "memory usage: 67.5+ KB\n"
     ]
    }
   ],
   "source": [
    "infy_dataset.info()"
   ]
  },
  {
   "cell_type": "code",
   "execution_count": 29,
   "metadata": {},
   "outputs": [
    {
     "data": {
      "text/plain": [
       "<matplotlib.axes._subplots.AxesSubplot at 0x156b6b356a0>"
      ]
     },
     "execution_count": 29,
     "metadata": {},
     "output_type": "execute_result"
    },
    {
     "data": {
      "image/png": "[encoded data removed]",
      "text/plain": [
       "<matplotlib.figure.Figure at 0x156b6b33ef0>"
      ]
     },
     "metadata": {},
     "output_type": "display_data"
    }
   ],
   "source": [
    "infy_dataset['Close'].plot()"
   ]
  },
  {
   "cell_type": "code",
   "execution_count": 30,
   "metadata": {},
   "outputs": [
    {
     "name": "stderr",
     "output_type": "stream",
     "text": [
      "C:\\Users\\Vani\\Anaconda3\\lib\\site-packages\\ipykernel_launcher.py:3: SettingWithCopyWarning: \n",
      "A value is trying to be set on a copy of a slice from a DataFrame.\n",
      "Try using .loc[row_indexer,col_indexer] = value instead\n",
      "\n",
      "See the caveats in the documentation: http://pandas.pydata.org/pandas-docs/stable/indexing.html#indexing-view-versus-copy\n",
      "  This is separate from the ipykernel package so we can avoid doing imports until\n"
     ]
    }
   ],
   "source": [
    "'''Create new column to show closing price after 30th day'''\n",
    "forecast_out = int(30) # predicting 30 days into future\n",
    "infy_dataset['Prediction'] = infy_dataset[['Close']].shift(-forecast_out)\n",
    "#for i in np.arange(len(infy_dataset)-30):\n",
    "#    infy_dataset.loc[i,'AfterMonth'] = infy_dataset.loc[i+30,'Close']\n",
    "    "
   ]
  },
  {
   "cell_type": "code",
   "execution_count": 33,
   "metadata": {},
   "outputs": [
    {
     "data": {
      "text/html": [
       "<div>\n",
       "<style>\n",
       "    .dataframe thead tr:only-child th {\n",
       "        text-align: right;\n",
       "    }\n",
       "\n",
       "    .dataframe thead th {\n",
       "        text-align: left;\n",
       "    }\n",
       "\n",
       "    .dataframe tbody tr th {\n",
       "        vertical-align: top;\n",
       "    }\n",
       "</style>\n",
       "<table border=\"1\" class=\"dataframe\">\n",
       "  <thead>\n",
       "    <tr style=\"text-align: right;\">\n",
       "      <th></th>\n",
       "      <th>Date</th>\n",
       "      <th>Open</th>\n",
       "      <th>High</th>\n",
       "      <th>Low</th>\n",
       "      <th>Close</th>\n",
       "      <th>Adj Close</th>\n",
       "      <th>Volume</th>\n",
       "      <th>Prediction</th>\n",
       "    </tr>\n",
       "    <tr>\n",
       "      <th>Date</th>\n",
       "      <th></th>\n",
       "      <th></th>\n",
       "      <th></th>\n",
       "      <th></th>\n",
       "      <th></th>\n",
       "      <th></th>\n",
       "      <th></th>\n",
       "      <th></th>\n",
       "    </tr>\n",
       "  </thead>\n",
       "  <tbody>\n",
       "    <tr>\n",
       "      <th>2013-04-04</th>\n",
       "      <td>2013-04-04</td>\n",
       "      <td>736.250000</td>\n",
       "      <td>737.286987</td>\n",
       "      <td>718.013000</td>\n",
       "      <td>720.013000</td>\n",
       "      <td>553.244873</td>\n",
       "      <td>3749980</td>\n",
       "      <td>599.400024</td>\n",
       "    </tr>\n",
       "    <tr>\n",
       "      <th>2013-04-05</th>\n",
       "      <td>2013-04-05</td>\n",
       "      <td>719.750000</td>\n",
       "      <td>724.750000</td>\n",
       "      <td>712.500000</td>\n",
       "      <td>716.463013</td>\n",
       "      <td>550.517151</td>\n",
       "      <td>2186480</td>\n",
       "      <td>596.325012</td>\n",
       "    </tr>\n",
       "    <tr>\n",
       "      <th>2013-04-08</th>\n",
       "      <td>2013-04-08</td>\n",
       "      <td>712.500000</td>\n",
       "      <td>718.411987</td>\n",
       "      <td>706.812012</td>\n",
       "      <td>707.974976</td>\n",
       "      <td>543.995117</td>\n",
       "      <td>1858180</td>\n",
       "      <td>589.963013</td>\n",
       "    </tr>\n",
       "    <tr>\n",
       "      <th>2013-04-09</th>\n",
       "      <td>2013-04-09</td>\n",
       "      <td>708.388000</td>\n",
       "      <td>709.737000</td>\n",
       "      <td>689.062012</td>\n",
       "      <td>691.588013</td>\n",
       "      <td>531.403687</td>\n",
       "      <td>5420328</td>\n",
       "      <td>586.974976</td>\n",
       "    </tr>\n",
       "    <tr>\n",
       "      <th>2013-04-10</th>\n",
       "      <td>2013-04-10</td>\n",
       "      <td>700.750000</td>\n",
       "      <td>706.950012</td>\n",
       "      <td>694.062012</td>\n",
       "      <td>703.911987</td>\n",
       "      <td>540.873230</td>\n",
       "      <td>3275808</td>\n",
       "      <td>593.174988</td>\n",
       "    </tr>\n",
       "  </tbody>\n",
       "</table>\n",
       "</div>"
      ],
      "text/plain": [
       "                 Date        Open        High         Low       Close  \\\n",
       "Date                                                                    \n",
       "2013-04-04 2013-04-04  736.250000  737.286987  718.013000  720.013000   \n",
       "2013-04-05 2013-04-05  719.750000  724.750000  712.500000  716.463013   \n",
       "2013-04-08 2013-04-08  712.500000  718.411987  706.812012  707.974976   \n",
       "2013-04-09 2013-04-09  708.388000  709.737000  689.062012  691.588013   \n",
       "2013-04-10 2013-04-10  700.750000  706.950012  694.062012  703.911987   \n",
       "\n",
       "             Adj Close   Volume  Prediction  \n",
       "Date                                         \n",
       "2013-04-04  553.244873  3749980  599.400024  \n",
       "2013-04-05  550.517151  2186480  596.325012  \n",
       "2013-04-08  543.995117  1858180  589.963013  \n",
       "2013-04-09  531.403687  5420328  586.974976  \n",
       "2013-04-10  540.873230  3275808  593.174988  "
      ]
     },
     "execution_count": 33,
     "metadata": {},
     "output_type": "execute_result"
    }
   ],
   "source": [
    "infy_dataset.head()"
   ]
  },
  {
   "cell_type": "code",
   "execution_count": 34,
   "metadata": {},
   "outputs": [
    {
     "data": {
      "text/html": [
       "<div>\n",
       "<style>\n",
       "    .dataframe thead tr:only-child th {\n",
       "        text-align: right;\n",
       "    }\n",
       "\n",
       "    .dataframe thead th {\n",
       "        text-align: left;\n",
       "    }\n",
       "\n",
       "    .dataframe tbody tr th {\n",
       "        vertical-align: top;\n",
       "    }\n",
       "</style>\n",
       "<table border=\"1\" class=\"dataframe\">\n",
       "  <thead>\n",
       "    <tr style=\"text-align: right;\">\n",
       "      <th></th>\n",
       "      <th>Date</th>\n",
       "      <th>Open</th>\n",
       "      <th>High</th>\n",
       "      <th>Low</th>\n",
       "      <th>Close</th>\n",
       "      <th>Adj Close</th>\n",
       "      <th>Volume</th>\n",
       "      <th>Prediction</th>\n",
       "    </tr>\n",
       "    <tr>\n",
       "      <th>Date</th>\n",
       "      <th></th>\n",
       "      <th></th>\n",
       "      <th></th>\n",
       "      <th></th>\n",
       "      <th></th>\n",
       "      <th></th>\n",
       "      <th></th>\n",
       "      <th></th>\n",
       "    </tr>\n",
       "  </thead>\n",
       "  <tbody>\n",
       "    <tr>\n",
       "      <th>2018-03-27</th>\n",
       "      <td>2018-03-27</td>\n",
       "      <td>1160.000000</td>\n",
       "      <td>1161.300049</td>\n",
       "      <td>1150.099976</td>\n",
       "      <td>1154.000000</td>\n",
       "      <td>1154.000000</td>\n",
       "      <td>1901044</td>\n",
       "      <td>NaN</td>\n",
       "    </tr>\n",
       "    <tr>\n",
       "      <th>2018-03-28</th>\n",
       "      <td>2018-03-28</td>\n",
       "      <td>1150.750000</td>\n",
       "      <td>1150.750000</td>\n",
       "      <td>1126.250000</td>\n",
       "      <td>1131.800049</td>\n",
       "      <td>1131.800049</td>\n",
       "      <td>6279161</td>\n",
       "      <td>NaN</td>\n",
       "    </tr>\n",
       "    <tr>\n",
       "      <th>2018-04-02</th>\n",
       "      <td>2018-04-02</td>\n",
       "      <td>1131.800049</td>\n",
       "      <td>1149.550049</td>\n",
       "      <td>1121.300049</td>\n",
       "      <td>1137.150024</td>\n",
       "      <td>1137.150024</td>\n",
       "      <td>4036351</td>\n",
       "      <td>NaN</td>\n",
       "    </tr>\n",
       "    <tr>\n",
       "      <th>2018-04-03</th>\n",
       "      <td>2018-04-03</td>\n",
       "      <td>1134.699951</td>\n",
       "      <td>1143.550049</td>\n",
       "      <td>1128.099976</td>\n",
       "      <td>1140.449951</td>\n",
       "      <td>1140.449951</td>\n",
       "      <td>2038584</td>\n",
       "      <td>NaN</td>\n",
       "    </tr>\n",
       "    <tr>\n",
       "      <th>2018-04-04</th>\n",
       "      <td>2018-04-04</td>\n",
       "      <td>1144.000000</td>\n",
       "      <td>1144.550049</td>\n",
       "      <td>1120.000000</td>\n",
       "      <td>1124.199951</td>\n",
       "      <td>1124.199951</td>\n",
       "      <td>2406651</td>\n",
       "      <td>NaN</td>\n",
       "    </tr>\n",
       "  </tbody>\n",
       "</table>\n",
       "</div>"
      ],
      "text/plain": [
       "                 Date         Open         High          Low        Close  \\\n",
       "Date                                                                        \n",
       "2018-03-27 2018-03-27  1160.000000  1161.300049  1150.099976  1154.000000   \n",
       "2018-03-28 2018-03-28  1150.750000  1150.750000  1126.250000  1131.800049   \n",
       "2018-04-02 2018-04-02  1131.800049  1149.550049  1121.300049  1137.150024   \n",
       "2018-04-03 2018-04-03  1134.699951  1143.550049  1128.099976  1140.449951   \n",
       "2018-04-04 2018-04-04  1144.000000  1144.550049  1120.000000  1124.199951   \n",
       "\n",
       "              Adj Close   Volume  Prediction  \n",
       "Date                                          \n",
       "2018-03-27  1154.000000  1901044         NaN  \n",
       "2018-03-28  1131.800049  6279161         NaN  \n",
       "2018-04-02  1137.150024  4036351         NaN  \n",
       "2018-04-03  1140.449951  2038584         NaN  \n",
       "2018-04-04  1124.199951  2406651         NaN  "
      ]
     },
     "execution_count": 34,
     "metadata": {},
     "output_type": "execute_result"
    }
   ],
   "source": [
    "infy_dataset.tail()"
   ]
  },
  {
   "cell_type": "code",
   "execution_count": 37,
   "metadata": {},
   "outputs": [
    {
     "name": "stderr",
     "output_type": "stream",
     "text": [
      "C:\\Users\\Vani\\Anaconda3\\lib\\site-packages\\sklearn\\cross_validation.py:44: DeprecationWarning: This module was deprecated in version 0.18 in favor of the model_selection module into which all the refactored classes and functions are moved. Also note that the interface of the new CV iterators are different from that of this module. This module will be removed in 0.20.\n",
      "  \"This module will be removed in 0.20.\", DeprecationWarning)\n"
     ]
    }
   ],
   "source": [
    "from sklearn import preprocessing, cross_validation, svm"
   ]
  },
  {
   "cell_type": "code",
   "execution_count": 49,
   "metadata": {},
   "outputs": [
    {
     "name": "stderr",
     "output_type": "stream",
     "text": [
      "C:\\Users\\Vani\\Anaconda3\\lib\\site-packages\\ipykernel_launcher.py:2: FutureWarning: reshape is deprecated and will raise in a subsequent release. Please use .values.reshape(...) instead\n",
      "  \n"
     ]
    }
   ],
   "source": [
    "X = infy_dataset['Close']\n",
    "X = X.reshape(X.shape[0],1)\n",
    "X = preprocessing.scale(X)"
   ]
  },
  {
   "cell_type": "code",
   "execution_count": 50,
   "metadata": {
    "collapsed": true
   },
   "outputs": [],
   "source": [
    "X_forecast = X[-forecast_out:] # set X_forecast equal to last 30\n",
    "X = X[:-forecast_out] # remove last 30 from X"
   ]
  },
  {
   "cell_type": "code",
   "execution_count": 51,
   "metadata": {},
   "outputs": [],
   "source": [
    "y = np.array(infy_dataset['Prediction'])\n",
    "y = y[:-forecast_out]"
   ]
  },
  {
   "cell_type": "code",
   "execution_count": 52,
   "metadata": {},
   "outputs": [],
   "source": [
    "\n",
    "y = y.reshape(y.shape[0],1)"
   ]
  },
  {
   "cell_type": "code",
   "execution_count": 53,
   "metadata": {
    "collapsed": true
   },
   "outputs": [],
   "source": [
    "X_train, X_test, y_train, y_test = cross_validation.train_test_split(X, y, test_size = 0.2)"
   ]
  },
  {
   "cell_type": "code",
   "execution_count": 54,
   "metadata": {},
   "outputs": [
    {
     "name": "stdout",
     "output_type": "stream",
     "text": [
      "confidence:  0.806389351689\n"
     ]
    }
   ],
   "source": [
    "# Training\n",
    "from sklearn.linear_model import LinearRegression\n",
    "clf = LinearRegression()\n",
    "clf.fit(X_train,y_train)\n",
    "# Testing\n",
    "confidence = clf.score(X_test, y_test)\n",
    "print(\"confidence: \", confidence)"
   ]
  },
  {
   "cell_type": "code",
   "execution_count": 57,
   "metadata": {},
   "outputs": [
    {
     "data": {
      "text/html": [
       "<div>\n",
       "<style>\n",
       "    .dataframe thead tr:only-child th {\n",
       "        text-align: right;\n",
       "    }\n",
       "\n",
       "    .dataframe thead th {\n",
       "        text-align: left;\n",
       "    }\n",
       "\n",
       "    .dataframe tbody tr th {\n",
       "        vertical-align: top;\n",
       "    }\n",
       "</style>\n",
       "<table border=\"1\" class=\"dataframe\">\n",
       "  <thead>\n",
       "    <tr style=\"text-align: right;\">\n",
       "      <th></th>\n",
       "      <th>Date</th>\n",
       "      <th>Open</th>\n",
       "      <th>High</th>\n",
       "      <th>Low</th>\n",
       "      <th>Close</th>\n",
       "      <th>Adj Close</th>\n",
       "      <th>Volume</th>\n",
       "      <th>Prediction</th>\n",
       "    </tr>\n",
       "    <tr>\n",
       "      <th>Date</th>\n",
       "      <th></th>\n",
       "      <th></th>\n",
       "      <th></th>\n",
       "      <th></th>\n",
       "      <th></th>\n",
       "      <th></th>\n",
       "      <th></th>\n",
       "      <th></th>\n",
       "    </tr>\n",
       "  </thead>\n",
       "  <tbody>\n",
       "    <tr>\n",
       "      <th>2018-02-19</th>\n",
       "      <td>2018-02-19</td>\n",
       "      <td>1128.400024</td>\n",
       "      <td>1136.000000</td>\n",
       "      <td>1120.300049</td>\n",
       "      <td>1131.750000</td>\n",
       "      <td>1131.750000</td>\n",
       "      <td>3230920</td>\n",
       "      <td>NaN</td>\n",
       "    </tr>\n",
       "    <tr>\n",
       "      <th>2018-02-20</th>\n",
       "      <td>2018-02-20</td>\n",
       "      <td>1103.750000</td>\n",
       "      <td>1149.500000</td>\n",
       "      <td>1103.750000</td>\n",
       "      <td>1136.949951</td>\n",
       "      <td>1136.949951</td>\n",
       "      <td>3594297</td>\n",
       "      <td>NaN</td>\n",
       "    </tr>\n",
       "    <tr>\n",
       "      <th>2018-02-21</th>\n",
       "      <td>2018-02-21</td>\n",
       "      <td>1147.500000</td>\n",
       "      <td>1151.900024</td>\n",
       "      <td>1140.000000</td>\n",
       "      <td>1147.400024</td>\n",
       "      <td>1147.400024</td>\n",
       "      <td>6885679</td>\n",
       "      <td>NaN</td>\n",
       "    </tr>\n",
       "    <tr>\n",
       "      <th>2018-02-22</th>\n",
       "      <td>2018-02-22</td>\n",
       "      <td>1145.550049</td>\n",
       "      <td>1164.000000</td>\n",
       "      <td>1140.449951</td>\n",
       "      <td>1160.750000</td>\n",
       "      <td>1160.750000</td>\n",
       "      <td>8929987</td>\n",
       "      <td>NaN</td>\n",
       "    </tr>\n",
       "    <tr>\n",
       "      <th>2018-02-23</th>\n",
       "      <td>2018-02-23</td>\n",
       "      <td>1163.500000</td>\n",
       "      <td>1166.000000</td>\n",
       "      <td>1146.750000</td>\n",
       "      <td>1155.650024</td>\n",
       "      <td>1155.650024</td>\n",
       "      <td>4729914</td>\n",
       "      <td>NaN</td>\n",
       "    </tr>\n",
       "    <tr>\n",
       "      <th>2018-02-26</th>\n",
       "      <td>2018-02-26</td>\n",
       "      <td>1151.000000</td>\n",
       "      <td>1155.050049</td>\n",
       "      <td>1134.349976</td>\n",
       "      <td>1138.599976</td>\n",
       "      <td>1138.599976</td>\n",
       "      <td>2541804</td>\n",
       "      <td>NaN</td>\n",
       "    </tr>\n",
       "    <tr>\n",
       "      <th>2018-02-27</th>\n",
       "      <td>2018-02-27</td>\n",
       "      <td>1144.949951</td>\n",
       "      <td>1153.650024</td>\n",
       "      <td>1125.650024</td>\n",
       "      <td>1150.199951</td>\n",
       "      <td>1150.199951</td>\n",
       "      <td>3308013</td>\n",
       "      <td>NaN</td>\n",
       "    </tr>\n",
       "    <tr>\n",
       "      <th>2018-02-28</th>\n",
       "      <td>2018-02-28</td>\n",
       "      <td>1147.599976</td>\n",
       "      <td>1189.500000</td>\n",
       "      <td>1142.550049</td>\n",
       "      <td>1172.599976</td>\n",
       "      <td>1172.599976</td>\n",
       "      <td>8634208</td>\n",
       "      <td>NaN</td>\n",
       "    </tr>\n",
       "    <tr>\n",
       "      <th>2018-03-01</th>\n",
       "      <td>2018-03-01</td>\n",
       "      <td>1169.599976</td>\n",
       "      <td>1169.599976</td>\n",
       "      <td>1156.050049</td>\n",
       "      <td>1160.750000</td>\n",
       "      <td>1160.750000</td>\n",
       "      <td>3289926</td>\n",
       "      <td>NaN</td>\n",
       "    </tr>\n",
       "    <tr>\n",
       "      <th>2018-03-05</th>\n",
       "      <td>2018-03-05</td>\n",
       "      <td>1160.750000</td>\n",
       "      <td>1170.800049</td>\n",
       "      <td>1143.250000</td>\n",
       "      <td>1155.900024</td>\n",
       "      <td>1155.900024</td>\n",
       "      <td>4050728</td>\n",
       "      <td>NaN</td>\n",
       "    </tr>\n",
       "    <tr>\n",
       "      <th>2018-03-06</th>\n",
       "      <td>2018-03-06</td>\n",
       "      <td>1162.550049</td>\n",
       "      <td>1165.400024</td>\n",
       "      <td>1143.599976</td>\n",
       "      <td>1151.349976</td>\n",
       "      <td>1151.349976</td>\n",
       "      <td>3344867</td>\n",
       "      <td>NaN</td>\n",
       "    </tr>\n",
       "    <tr>\n",
       "      <th>2018-03-07</th>\n",
       "      <td>2018-03-07</td>\n",
       "      <td>1155.000000</td>\n",
       "      <td>1160.000000</td>\n",
       "      <td>1138.050049</td>\n",
       "      <td>1144.099976</td>\n",
       "      <td>1144.099976</td>\n",
       "      <td>3185208</td>\n",
       "      <td>NaN</td>\n",
       "    </tr>\n",
       "    <tr>\n",
       "      <th>2018-03-08</th>\n",
       "      <td>2018-03-08</td>\n",
       "      <td>1149.000000</td>\n",
       "      <td>1165.800049</td>\n",
       "      <td>1149.000000</td>\n",
       "      <td>1156.650024</td>\n",
       "      <td>1156.650024</td>\n",
       "      <td>3046507</td>\n",
       "      <td>NaN</td>\n",
       "    </tr>\n",
       "    <tr>\n",
       "      <th>2018-03-09</th>\n",
       "      <td>2018-03-09</td>\n",
       "      <td>1162.349976</td>\n",
       "      <td>1166.000000</td>\n",
       "      <td>1155.550049</td>\n",
       "      <td>1163.400024</td>\n",
       "      <td>1163.400024</td>\n",
       "      <td>2110482</td>\n",
       "      <td>NaN</td>\n",
       "    </tr>\n",
       "    <tr>\n",
       "      <th>2018-03-12</th>\n",
       "      <td>2018-03-12</td>\n",
       "      <td>1176.000000</td>\n",
       "      <td>1191.849976</td>\n",
       "      <td>1171.750000</td>\n",
       "      <td>1185.750000</td>\n",
       "      <td>1185.750000</td>\n",
       "      <td>3838485</td>\n",
       "      <td>NaN</td>\n",
       "    </tr>\n",
       "    <tr>\n",
       "      <th>2018-03-13</th>\n",
       "      <td>2018-03-13</td>\n",
       "      <td>1180.199951</td>\n",
       "      <td>1197.000000</td>\n",
       "      <td>1175.150024</td>\n",
       "      <td>1183.800049</td>\n",
       "      <td>1183.800049</td>\n",
       "      <td>4290526</td>\n",
       "      <td>NaN</td>\n",
       "    </tr>\n",
       "    <tr>\n",
       "      <th>2018-03-14</th>\n",
       "      <td>2018-03-14</td>\n",
       "      <td>1180.000000</td>\n",
       "      <td>1190.599976</td>\n",
       "      <td>1169.099976</td>\n",
       "      <td>1180.800049</td>\n",
       "      <td>1180.800049</td>\n",
       "      <td>2214855</td>\n",
       "      <td>NaN</td>\n",
       "    </tr>\n",
       "    <tr>\n",
       "      <th>2018-03-15</th>\n",
       "      <td>2018-03-15</td>\n",
       "      <td>1180.000000</td>\n",
       "      <td>1188.400024</td>\n",
       "      <td>1172.000000</td>\n",
       "      <td>1182.500000</td>\n",
       "      <td>1182.500000</td>\n",
       "      <td>3050750</td>\n",
       "      <td>NaN</td>\n",
       "    </tr>\n",
       "    <tr>\n",
       "      <th>2018-03-16</th>\n",
       "      <td>2018-03-16</td>\n",
       "      <td>1182.000000</td>\n",
       "      <td>1182.400024</td>\n",
       "      <td>1169.250000</td>\n",
       "      <td>1171.900024</td>\n",
       "      <td>1171.900024</td>\n",
       "      <td>8977413</td>\n",
       "      <td>NaN</td>\n",
       "    </tr>\n",
       "    <tr>\n",
       "      <th>2018-03-19</th>\n",
       "      <td>2018-03-19</td>\n",
       "      <td>1164.000000</td>\n",
       "      <td>1180.500000</td>\n",
       "      <td>1142.650024</td>\n",
       "      <td>1146.750000</td>\n",
       "      <td>1146.750000</td>\n",
       "      <td>3763310</td>\n",
       "      <td>NaN</td>\n",
       "    </tr>\n",
       "    <tr>\n",
       "      <th>2018-03-20</th>\n",
       "      <td>2018-03-20</td>\n",
       "      <td>1148.599976</td>\n",
       "      <td>1170.000000</td>\n",
       "      <td>1148.599976</td>\n",
       "      <td>1164.550049</td>\n",
       "      <td>1164.550049</td>\n",
       "      <td>4276883</td>\n",
       "      <td>NaN</td>\n",
       "    </tr>\n",
       "    <tr>\n",
       "      <th>2018-03-21</th>\n",
       "      <td>2018-03-21</td>\n",
       "      <td>1170.000000</td>\n",
       "      <td>1175.500000</td>\n",
       "      <td>1162.199951</td>\n",
       "      <td>1167.500000</td>\n",
       "      <td>1167.500000</td>\n",
       "      <td>3846497</td>\n",
       "      <td>NaN</td>\n",
       "    </tr>\n",
       "    <tr>\n",
       "      <th>2018-03-22</th>\n",
       "      <td>2018-03-22</td>\n",
       "      <td>1164.500000</td>\n",
       "      <td>1177.449951</td>\n",
       "      <td>1155.300049</td>\n",
       "      <td>1161.300049</td>\n",
       "      <td>1161.300049</td>\n",
       "      <td>3406584</td>\n",
       "      <td>NaN</td>\n",
       "    </tr>\n",
       "    <tr>\n",
       "      <th>2018-03-23</th>\n",
       "      <td>2018-03-23</td>\n",
       "      <td>1147.000000</td>\n",
       "      <td>1173.800049</td>\n",
       "      <td>1142.349976</td>\n",
       "      <td>1167.599976</td>\n",
       "      <td>1167.599976</td>\n",
       "      <td>6004042</td>\n",
       "      <td>NaN</td>\n",
       "    </tr>\n",
       "    <tr>\n",
       "      <th>2018-03-26</th>\n",
       "      <td>2018-03-26</td>\n",
       "      <td>1166.900024</td>\n",
       "      <td>1166.900024</td>\n",
       "      <td>1144.000000</td>\n",
       "      <td>1155.250000</td>\n",
       "      <td>1155.250000</td>\n",
       "      <td>4465361</td>\n",
       "      <td>NaN</td>\n",
       "    </tr>\n",
       "    <tr>\n",
       "      <th>2018-03-27</th>\n",
       "      <td>2018-03-27</td>\n",
       "      <td>1160.000000</td>\n",
       "      <td>1161.300049</td>\n",
       "      <td>1150.099976</td>\n",
       "      <td>1154.000000</td>\n",
       "      <td>1154.000000</td>\n",
       "      <td>1901044</td>\n",
       "      <td>NaN</td>\n",
       "    </tr>\n",
       "    <tr>\n",
       "      <th>2018-03-28</th>\n",
       "      <td>2018-03-28</td>\n",
       "      <td>1150.750000</td>\n",
       "      <td>1150.750000</td>\n",
       "      <td>1126.250000</td>\n",
       "      <td>1131.800049</td>\n",
       "      <td>1131.800049</td>\n",
       "      <td>6279161</td>\n",
       "      <td>NaN</td>\n",
       "    </tr>\n",
       "    <tr>\n",
       "      <th>2018-04-02</th>\n",
       "      <td>2018-04-02</td>\n",
       "      <td>1131.800049</td>\n",
       "      <td>1149.550049</td>\n",
       "      <td>1121.300049</td>\n",
       "      <td>1137.150024</td>\n",
       "      <td>1137.150024</td>\n",
       "      <td>4036351</td>\n",
       "      <td>NaN</td>\n",
       "    </tr>\n",
       "    <tr>\n",
       "      <th>2018-04-03</th>\n",
       "      <td>2018-04-03</td>\n",
       "      <td>1134.699951</td>\n",
       "      <td>1143.550049</td>\n",
       "      <td>1128.099976</td>\n",
       "      <td>1140.449951</td>\n",
       "      <td>1140.449951</td>\n",
       "      <td>2038584</td>\n",
       "      <td>NaN</td>\n",
       "    </tr>\n",
       "    <tr>\n",
       "      <th>2018-04-04</th>\n",
       "      <td>2018-04-04</td>\n",
       "      <td>1144.000000</td>\n",
       "      <td>1144.550049</td>\n",
       "      <td>1120.000000</td>\n",
       "      <td>1124.199951</td>\n",
       "      <td>1124.199951</td>\n",
       "      <td>2406651</td>\n",
       "      <td>NaN</td>\n",
       "    </tr>\n",
       "  </tbody>\n",
       "</table>\n",
       "</div>"
      ],
      "text/plain": [
       "                 Date         Open         High          Low        Close  \\\n",
       "Date                                                                        \n",
       "2018-02-19 2018-02-19  1128.400024  1136.000000  1120.300049  1131.750000   \n",
       "2018-02-20 2018-02-20  1103.750000  1149.500000  1103.750000  1136.949951   \n",
       "2018-02-21 2018-02-21  1147.500000  1151.900024  1140.000000  1147.400024   \n",
       "2018-02-22 2018-02-22  1145.550049  1164.000000  1140.449951  1160.750000   \n",
       "2018-02-23 2018-02-23  1163.500000  1166.000000  1146.750000  1155.650024   \n",
       "2018-02-26 2018-02-26  1151.000000  1155.050049  1134.349976  1138.599976   \n",
       "2018-02-27 2018-02-27  1144.949951  1153.650024  1125.650024  1150.199951   \n",
       "2018-02-28 2018-02-28  1147.599976  1189.500000  1142.550049  1172.599976   \n",
       "2018-03-01 2018-03-01  1169.599976  1169.599976  1156.050049  1160.750000   \n",
       "2018-03-05 2018-03-05  1160.750000  1170.800049  1143.250000  1155.900024   \n",
       "2018-03-06 2018-03-06  1162.550049  1165.400024  1143.599976  1151.349976   \n",
       "2018-03-07 2018-03-07  1155.000000  1160.000000  1138.050049  1144.099976   \n",
       "2018-03-08 2018-03-08  1149.000000  1165.800049  1149.000000  1156.650024   \n",
       "2018-03-09 2018-03-09  1162.349976  1166.000000  1155.550049  1163.400024   \n",
       "2018-03-12 2018-03-12  1176.000000  1191.849976  1171.750000  1185.750000   \n",
       "2018-03-13 2018-03-13  1180.199951  1197.000000  1175.150024  1183.800049   \n",
       "2018-03-14 2018-03-14  1180.000000  1190.599976  1169.099976  1180.800049   \n",
       "2018-03-15 2018-03-15  1180.000000  1188.400024  1172.000000  1182.500000   \n",
       "2018-03-16 2018-03-16  1182.000000  1182.400024  1169.250000  1171.900024   \n",
       "2018-03-19 2018-03-19  1164.000000  1180.500000  1142.650024  1146.750000   \n",
       "2018-03-20 2018-03-20  1148.599976  1170.000000  1148.599976  1164.550049   \n",
       "2018-03-21 2018-03-21  1170.000000  1175.500000  1162.199951  1167.500000   \n",
       "2018-03-22 2018-03-22  1164.500000  1177.449951  1155.300049  1161.300049   \n",
       "2018-03-23 2018-03-23  1147.000000  1173.800049  1142.349976  1167.599976   \n",
       "2018-03-26 2018-03-26  1166.900024  1166.900024  1144.000000  1155.250000   \n",
       "2018-03-27 2018-03-27  1160.000000  1161.300049  1150.099976  1154.000000   \n",
       "2018-03-28 2018-03-28  1150.750000  1150.750000  1126.250000  1131.800049   \n",
       "2018-04-02 2018-04-02  1131.800049  1149.550049  1121.300049  1137.150024   \n",
       "2018-04-03 2018-04-03  1134.699951  1143.550049  1128.099976  1140.449951   \n",
       "2018-04-04 2018-04-04  1144.000000  1144.550049  1120.000000  1124.199951   \n",
       "\n",
       "              Adj Close   Volume  Prediction  \n",
       "Date                                          \n",
       "2018-02-19  1131.750000  3230920         NaN  \n",
       "2018-02-20  1136.949951  3594297         NaN  \n",
       "2018-02-21  1147.400024  6885679         NaN  \n",
       "2018-02-22  1160.750000  8929987         NaN  \n",
       "2018-02-23  1155.650024  4729914         NaN  \n",
       "2018-02-26  1138.599976  2541804         NaN  \n",
       "2018-02-27  1150.199951  3308013         NaN  \n",
       "2018-02-28  1172.599976  8634208         NaN  \n",
       "2018-03-01  1160.750000  3289926         NaN  \n",
       "2018-03-05  1155.900024  4050728         NaN  \n",
       "2018-03-06  1151.349976  3344867         NaN  \n",
       "2018-03-07  1144.099976  3185208         NaN  \n",
       "2018-03-08  1156.650024  3046507         NaN  \n",
       "2018-03-09  1163.400024  2110482         NaN  \n",
       "2018-03-12  1185.750000  3838485         NaN  \n",
       "2018-03-13  1183.800049  4290526         NaN  \n",
       "2018-03-14  1180.800049  2214855         NaN  \n",
       "2018-03-15  1182.500000  3050750         NaN  \n",
       "2018-03-16  1171.900024  8977413         NaN  \n",
       "2018-03-19  1146.750000  3763310         NaN  \n",
       "2018-03-20  1164.550049  4276883         NaN  \n",
       "2018-03-21  1167.500000  3846497         NaN  \n",
       "2018-03-22  1161.300049  3406584         NaN  \n",
       "2018-03-23  1167.599976  6004042         NaN  \n",
       "2018-03-26  1155.250000  4465361         NaN  \n",
       "2018-03-27  1154.000000  1901044         NaN  \n",
       "2018-03-28  1131.800049  6279161         NaN  \n",
       "2018-04-02  1137.150024  4036351         NaN  \n",
       "2018-04-03  1140.449951  2038584         NaN  \n",
       "2018-04-04  1124.199951  2406651         NaN  "
      ]
     },
     "execution_count": 57,
     "metadata": {},
     "output_type": "execute_result"
    }
   ],
   "source": [
    "infy_dataset[infy_dataset.isnull().any(axis=1)]"
   ]
  },
  {
   "cell_type": "code",
   "execution_count": 55,
   "metadata": {},
   "outputs": [
    {
     "name": "stdout",
     "output_type": "stream",
     "text": [
      "[[ 1116.8771434 ]\n",
      " [ 1121.14491087]\n",
      " [ 1129.72162275]\n",
      " [ 1140.67837854]\n",
      " [ 1136.49266379]\n",
      " [ 1122.49913959]\n",
      " [ 1132.01961313]\n",
      " [ 1150.40403597]\n",
      " [ 1140.67837854]\n",
      " [ 1136.69784685]\n",
      " [ 1132.96347573]\n",
      " [ 1127.01316695]\n",
      " [ 1137.31339603]\n",
      " [ 1142.8533387 ]\n",
      " [ 1161.1966847 ]\n",
      " [ 1159.59629704]\n",
      " [ 1157.1341003 ]\n",
      " [ 1158.5293049 ]\n",
      " [ 1149.82956279]\n",
      " [ 1129.1881271 ]\n",
      " [ 1143.7972013 ]\n",
      " [ 1146.21832121]\n",
      " [ 1141.1298215 ]\n",
      " [ 1146.30037474]\n",
      " [ 1136.16435119]\n",
      " [ 1135.13843588]\n",
      " [ 1116.91822023]\n",
      " [ 1121.30911723]\n",
      " [ 1124.01747373]\n",
      " [ 1110.68057472]]\n"
     ]
    }
   ],
   "source": [
    "forecast_prediction = clf.predict(X_forecast)\n",
    "print(forecast_prediction)"
   ]
  },
  {
   "cell_type": "code",
   "execution_count": 58,
   "metadata": {},
   "outputs": [
    {
     "data": {
      "text/plain": [
       "array([[ 123.93813277]])"
      ]
     },
     "execution_count": 58,
     "metadata": {},
     "output_type": "execute_result"
    }
   ],
   "source": [
    "clf.coef_"
   ]
  },
  {
   "cell_type": "code",
   "execution_count": 59,
   "metadata": {},
   "outputs": [
    {
     "data": {
      "text/plain": [
       "array([ 984.89372988])"
      ]
     },
     "execution_count": 59,
     "metadata": {},
     "output_type": "execute_result"
    }
   ],
   "source": [
    "clf.intercept_"
   ]
  },
  {
   "cell_type": "code",
   "execution_count": null,
   "metadata": {
    "collapsed": true
   },
   "outputs": [],
   "source": []
  }
 ],
 "metadata": {
  "kernelspec": {
   "display_name": "Python 3",
   "language": "python",
   "name": "python3"
  },
  "language_info": {
   "codemirror_mode": {
    "name": "ipython",
    "version": 3
   },
   "file_extension": ".py",
   "mimetype": "text/x-python",
   "name": "python",
   "nbconvert_exporter": "python",
   "pygments_lexer": "ipython3",
   "version": "3.6.1"
  }
 },
 "nbformat": 4,
 "nbformat_minor": 2
}
